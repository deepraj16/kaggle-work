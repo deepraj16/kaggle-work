{
  "cells": [
    {
      "cell_type": "markdown",
      "metadata": {
        "id": "view-in-github",
        "colab_type": "text"
      },
      "source": [
        "<a href=\"https://colab.research.google.com/github/deepraj16/kaggle-work/blob/main/Zomato_Complete_EDA_and_LSTM_model.ipynb\" target=\"_parent\"><img src=\"https://colab.research.google.com/assets/colab-badge.svg\" alt=\"Open In Colab\"/></a>"
      ]
    },
    {
      "source": [
        "# IMPORTANT: RUN THIS CELL IN ORDER TO IMPORT YOUR KAGGLE DATA SOURCES,\n",
        "# THEN FEEL FREE TO DELETE THIS CELL.\n",
        "# NOTE: THIS NOTEBOOK ENVIRONMENT DIFFERS FROM KAGGLE'S PYTHON\n",
        "# ENVIRONMENT SO THERE MAY BE MISSING LIBRARIES USED BY YOUR\n",
        "# NOTEBOOK.\n",
        "import kagglehub\n",
        "himanshupoddar_zomato_bangalore_restaurants_path = kagglehub.dataset_download('himanshupoddar/zomato-bangalore-restaurants')\n",
        "\n",
        "print('Data source import complete.')\n"
      ],
      "metadata": {
        "id": "1Gnq4Zwv27Qg"
      },
      "cell_type": "code",
      "outputs": [],
      "execution_count": null
    },
    {
      "metadata": {
        "id": "CB4R4Aq227Qq"
      },
      "cell_type": "markdown",
      "source": [
        "![](https://media.giphy.com/media/tWRJEZeQeHAqs/giphy.gif)"
      ]
    },
    {
      "metadata": {
        "id": "QnO_p5YD27Qx"
      },
      "cell_type": "markdown",
      "source": [
        "<body>\n",
        "    <font size=6 color=\"red\">Background checkup</font>\n",
        "</body>\n",
        ""
      ]
    },
    {
      "metadata": {
        "id": "k5qpOTag27Q0"
      },
      "cell_type": "markdown",
      "source": [
        "The basic idea of analyzing the Zomato dataset is to get a fair idea about the factors affecting the establishment of different types of restaurant at different places in Bengaluru, aggregate rating of each restaurant, Bengaluru being one such city has more than 12,000 restaurants with restaurants serving dishes from all over the world. With each day new restaurants opening the industry has’nt been saturated yet and the demand is increasing day by day. Inspite of increasing demand it however has become difficult for new restaurants to compete with established restaurants. Most of them serving the same food. Bengaluru being an IT capital of India. Most of the people here are dependent mainly on the restaurant food as they don’t have time to cook for themselves. With such an overwhelming demand of restaurants it has therefore become important to study the demography of a location.\n",
        "\n",
        "- What kind of a food is more popular in a locality.\n",
        "- Do the entire locality loves vegetarian food. If yes then is that locality populated by a particular sect of people for eg. Jain, Marwaris, Gujaratis who are mostly vegetarian. These kind of analysis can be done using the data, by studying the factors such as • Location of the restaurant • Approx Price of food  Theme based restaurant or not\n",
        "-  Which locality of that city serves that cuisines with maximum number of restaurants • The needs of people who are striving to get the best cuisine of the neighborhood • Is a particular neighborhood famous for its own kind of food."
      ]
    },
    {
      "metadata": {
        "id": "9SjRbfAj27Q4"
      },
      "cell_type": "markdown",
      "source": [
        "<font size=5 color=\"violet\">If you like my work,please consider <font color='red'>upvoting</font> my kernel.</font>"
      ]
    },
    {
      "metadata": {
        "id": "iysMpOPg27Q6"
      },
      "cell_type": "markdown",
      "source": [
        "<font size=5 color='blue'> What is in this kernel</font>"
      ]
    },
    {
      "metadata": {
        "id": "MiHgTpzp27Q8"
      },
      "cell_type": "markdown",
      "source": [
        "1. [Loading required libraries](#1)\n",
        "2. [Getting basic ideas about the data](#2)\n",
        "3. [Exploratory data analysis](#3)\n",
        "\n",
        "     1. [ Which are the top restaurant chains in Bangaluru?](#4)\n",
        "     2. [How many of the restuarants do not accept online orders?](#5)\n",
        "     3. [What is the ratio b/w restaurants that provide and do not provide table booking ?](#25)\n",
        "     4. [ Rating distribution](#6)\n",
        "     5. [Is there any difference b/w votes of restaurants accepting and not accepting online orders?](#7)\n",
        "     6. [Which are the most common restaurant type in Banglore?](#8)\n",
        "     7. [Cost factor ?](#9)\n",
        "     8. [Which are the foodie areas?](#10)\n",
        "     9. [Which are the most common cuisines in each locations?](#11)\n",
        "     10. [Extracting location information using Geopy](#12)\n",
        "     11. [Heatmap of restaurant count on each location](13)\n",
        "     12. [Which are  the most popular cuisines of Bangalore?](#14)\n",
        "     13. [Heatmap of North Indian restaurants](#15)\n",
        "     14. [What about South  Indian cuisines?](#16)\n",
        "     15. [Analysing Restaurant chains ](#17)\n",
        "            16. [Which are the most popular casual dining restaurant chains?](#18)\n",
        "                   1. [Where are their outlets located?](#19)\n",
        "            17. [Top quick bites restaurant chains in Banglore](#20)\n",
        "                   1. [Where are their outlets located?](#21)\n",
        "            18. [Top Cafes of Banglore?](#22)\n",
        "                   1. [Where are their outlets located?](#23)\n",
        "            19. [Wordcloud of dishes liked by cuisines.](#24)\n",
        "     20. [Analysing Reviews](#26)\n",
        "            21. [Wordcloud of restaurant reviews](#27)\n",
        "            22. [Rating distribution](#28)\n",
        "4. [Topic modelling](#33)\n",
        "     23. [Topic modelling for positive comments](#34)\n",
        "     24. [Topic modelling for positive comments](#35)\n",
        "         \n",
        "            \n",
        "5. [Sentimental Analysis on Reviews](#29)\n",
        "     23. [Data preparation](#30)\n",
        "     24. [Building our model](#31)\n",
        "     25. [Validation](#32)\n",
        "     "
      ]
    },
    {
      "metadata": {
        "id": "x1n92oIp27RA"
      },
      "cell_type": "markdown",
      "source": [
        "## [Loading libraries]()<a id=\"1\"></a> <br>\n"
      ]
    },
    {
      "metadata": {
        "_uuid": "8f2839f25d086af736a60e9eeb907d3b93b6e0e5",
        "_cell_guid": "b1076dfc-b9ad-4769-8c92-a6c4dae69d19",
        "trusted": true,
        "id": "gRsqyRyH27RC"
      },
      "cell_type": "code",
      "source": [
        "\n",
        "\n",
        "import numpy as np\n",
        "import pandas as pd\n",
        "import os\n",
        "import seaborn as sns\n",
        "print(os.listdir(\"../input\"))\n",
        "import matplotlib.pyplot as plt\n",
        "plt.style.use('ggplot')\n",
        "import plotly.offline as py\n",
        "import plotly.graph_objs as go\n",
        "from plotly.offline import init_notebook_mode\n",
        "init_notebook_mode(connected=False)\n",
        "from wordcloud import WordCloud\n",
        "from geopy.geocoders import Nominatim\n",
        "from folium.plugins import HeatMap\n",
        "import folium\n",
        "from tqdm import tqdm\n",
        "import re\n",
        "from keras.preprocessing.text import Tokenizer\n",
        "from keras.preprocessing.sequence import pad_sequences\n",
        "from keras.models import Sequential\n",
        "from keras.layers import Dense, Embedding, LSTM, SpatialDropout1D\n",
        "from sklearn.model_selection import train_test_split\n",
        "from nltk import word_tokenize\n",
        "from sklearn.feature_extraction.text import TfidfVectorizer\n",
        "import gensim\n",
        "from collections import Counter\n",
        "from nltk.corpus import stopwords\n",
        "from nltk.stem import WordNetLemmatizer\n",
        "import matplotlib.colors as mcolors\n",
        "from sklearn.manifold import TSNE\n",
        "from gensim.models import word2vec\n",
        "import nltk\n",
        "# Any results you write to the current directory are saved as output."
      ],
      "execution_count": null,
      "outputs": []
    },
    {
      "metadata": {
        "_cell_guid": "79c7e3d0-c299-4dcb-8224-4455121ee9b0",
        "_uuid": "d629ff2d2480ee46fbb7e2d37f6b5fab8052498a",
        "trusted": true,
        "id": "Ins-4Jrs27RG"
      },
      "cell_type": "code",
      "source": [
        "df=pd.read_csv(\"../input/zomato.csv\")"
      ],
      "execution_count": null,
      "outputs": []
    },
    {
      "metadata": {
        "id": "r_5a5tWC27RL"
      },
      "cell_type": "markdown",
      "source": [
        "## [Getting Basic Ideas]()<a id=\"2\"></a> <br>\n"
      ]
    },
    {
      "metadata": {
        "trusted": true,
        "_kg_hide-input": true,
        "id": "F32RHKGg27RN"
      },
      "cell_type": "code",
      "source": [
        "print(\"dataset contains {} rows and {} columns\".format(df.shape[0],df.shape[1]))"
      ],
      "execution_count": null,
      "outputs": []
    },
    {
      "metadata": {
        "trusted": true,
        "_kg_hide-input": true,
        "id": "uQBP9rlg27RP"
      },
      "cell_type": "code",
      "source": [
        "df.info()"
      ],
      "execution_count": null,
      "outputs": []
    },
    {
      "metadata": {
        "trusted": true,
        "_kg_hide-input": true,
        "id": "0B1hWODR27RR"
      },
      "cell_type": "code",
      "source": [
        "df.head()"
      ],
      "execution_count": null,
      "outputs": []
    },
    {
      "metadata": {
        "id": "yF3WP-tS27RU"
      },
      "cell_type": "markdown",
      "source": [
        "**Columns description**\n",
        "\n",
        "- **url**\n",
        "contains the url of the restaurant in the zomato website\n",
        "\n",
        "- **address**\n",
        "contains the address of the restaurant in Bengaluru\n",
        "\n",
        "- **name**\n",
        "contains the name of the restaurant\n",
        "\n",
        "- **online_order**\n",
        "whether online ordering is available in the restaurant or not\n",
        "\n",
        "- **book_table**\n",
        "table book option available or not\n",
        "\n",
        "- **rate**\n",
        "contains the overall rating of the restaurant out of 5\n",
        "\n",
        "- **votes**\n",
        "contains total number of rating for the restaurant as of the above mentioned date\n",
        "\n",
        "- **phone**\n",
        "contains the phone number of the restaurant\n",
        "\n",
        "- **location**\n",
        "contains the neighborhood in which the restaurant is located\n",
        "\n",
        "- **rest_type**\n",
        "restaurant type\n",
        "\n",
        "- **dish_liked**\n",
        "dishes people liked in the restaurant\n",
        "\n",
        "- **cuisines**\n",
        "food styles, separated by comma\n",
        "\n",
        "- **approx_cost(for two people)**\n",
        "contains the approximate cost for meal for two people\n",
        "\n",
        "- **reviews_list**\n",
        "list of tuples containing reviews for the restaurant, each tuple\n",
        "\n",
        "- **menu_item**\n",
        "contains list of menus available in the restaurant\n",
        "\n",
        "- **listed_in(type)**\n",
        "type of meal\n",
        "\n",
        "- **listed_in(city)**\n",
        "contains the neighborhood in which the restaurant is listed\n"
      ]
    },
    {
      "metadata": {
        "id": "6qMIBKwA27RW"
      },
      "cell_type": "markdown",
      "source": [
        "## [Exploratory data analysis](#3)"
      ]
    },
    {
      "metadata": {
        "id": "o1CljYkS27RX"
      },
      "cell_type": "markdown",
      "source": [
        "## [Which are the top restaurant chains in Bangaluru?]()<a id=\"4\"></a> <br>\n"
      ]
    },
    {
      "metadata": {
        "trusted": true,
        "_kg_hide-input": true,
        "id": "Sl-XCfM127Ra"
      },
      "cell_type": "code",
      "source": [
        "plt.figure(figsize=(10,7))\n",
        "chains=df['name'].value_counts()[:20]\n",
        "sns.barplot(x=chains,y=chains.index,palette='deep')\n",
        "plt.title(\"Most famous restaurants chains in Bangaluru\")\n",
        "plt.xlabel(\"Number of outlets\")"
      ],
      "execution_count": null,
      "outputs": []
    },
    {
      "metadata": {
        "id": "dVxqEKrG27Rc"
      },
      "cell_type": "markdown",
      "source": [
        "- As you can see **Cafe coffee day,Onesta,Just Bake** has the most number of outlets in and around bangalore.\n",
        "- This is rather interesting,we will inspect each of them later."
      ]
    },
    {
      "metadata": {
        "id": "lvr3nBRb27Re"
      },
      "cell_type": "markdown",
      "source": [
        "## [How many of the restuarants do not accept online orders?]()<a id=\"5\"></a> <br>\n"
      ]
    },
    {
      "metadata": {
        "trusted": true,
        "_kg_hide-input": true,
        "id": "LdFezKHX27Rf"
      },
      "cell_type": "code",
      "source": [
        "x=df['online_order'].value_counts()\n",
        "colors = ['#FEBFB3', '#E1396C']\n",
        "\n",
        "trace=go.Pie(labels=x.index,values=x,textinfo=\"value\",\n",
        "            marker=dict(colors=colors,\n",
        "                           line=dict(color='#000000', width=2)))\n",
        "layout=go.Layout(title=\"Accepting vs not accepting online orders\",width=500,height=500)\n",
        "fig=go.Figure(data=[trace],layout=layout)\n",
        "py.iplot(fig, filename='pie_chart_subplots')\n",
        "\n",
        "\n",
        ""
      ],
      "execution_count": null,
      "outputs": []
    },
    {
      "metadata": {
        "id": "xcIGgnKH27Rg"
      },
      "cell_type": "markdown",
      "source": [
        "1. As clearly indicated,almost 60 per cent of restaurants in Banglore accepts online orders.\n",
        "2. Nearly 40 per cent of the restaurants do not accept online orders.\n",
        "3. This might be because of the fact that these restaurants cannot afford to pay commission to zomoto for giving them orders online.\n",
        "   zomato may want to consider giving them some more benefits if they want to increse the number of restaurants serving their customers online.\n"
      ]
    },
    {
      "metadata": {
        "id": "1cmwqoYB27Ri"
      },
      "cell_type": "markdown",
      "source": [
        "## [What is the ratio b/w restaurants that provide and do not provide table booking ?]()<a id=\"25\"></a> <br>\n",
        "\n"
      ]
    },
    {
      "metadata": {
        "trusted": true,
        "_kg_hide-input": true,
        "id": "6Or6YQ7o27Rj"
      },
      "cell_type": "code",
      "source": [
        "x=df['book_table'].value_counts()\n",
        "colors = ['#96D38C', '#D0F9B1']\n",
        "\n",
        "trace=go.Pie(labels=x.index,values=x,textinfo=\"value\",\n",
        "            marker=dict(colors=colors,\n",
        "                           line=dict(color='#000000', width=2)))\n",
        "layout=go.Layout(title=\"Table booking\",width=500,height=500)\n",
        "fig=go.Figure(data=[trace],layout=layout)\n",
        "py.iplot(fig, filename='pie_chart_subplots')\n",
        ""
      ],
      "execution_count": null,
      "outputs": []
    },
    {
      "metadata": {
        "id": "ZxKM7MNX27Rl"
      },
      "cell_type": "markdown",
      "source": [
        "1. Almost 90 percent of restaurants in Banglore do not provide table booking facility.\n",
        "2. In India you cannot find table booking facility in any average restaurants,usually only five star restaurants provides table booking.\n",
        "3. We will inspect this further."
      ]
    },
    {
      "metadata": {
        "id": "n5Z2yJNJ27Rm"
      },
      "cell_type": "markdown",
      "source": [
        "## [Rating distribution]()<a id=\"6\"></a> <br>\n"
      ]
    },
    {
      "metadata": {
        "trusted": true,
        "_kg_hide-input": true,
        "id": "rP8xk2g927Rn"
      },
      "cell_type": "code",
      "source": [
        "plt.figure(figsize=(6,5))\n",
        "rating=df['rate'].dropna().apply(lambda x : float(x.split('/')[0]) if (len(x)>3)  else np.nan ).dropna()\n",
        "sns.distplot(rating,bins=20)"
      ],
      "execution_count": null,
      "outputs": []
    },
    {
      "metadata": {
        "id": "jOONksGw27Rp"
      },
      "cell_type": "markdown",
      "source": [
        "1. Almost more than 50 percent of restaurants has rating between 3 and 4.\n",
        "2. Restaurants having rating more than 4.5 are very rare."
      ]
    },
    {
      "metadata": {
        "trusted": true,
        "id": "DKCuUIq027Rq"
      },
      "cell_type": "code",
      "source": [
        "\n",
        "cost_dist=df[['rate','approx_cost(for two people)','online_order']].dropna()\n",
        "cost_dist['rate']=cost_dist['rate'].apply(lambda x: float(x.split('/')[0]) if len(x)>3 else 0)\n",
        "cost_dist['approx_cost(for two people)']=cost_dist['approx_cost(for two people)'].apply(lambda x: int(x.replace(',','')))\n"
      ],
      "execution_count": null,
      "outputs": []
    },
    {
      "metadata": {
        "id": "hPCww1Tz27Rs"
      },
      "cell_type": "markdown",
      "source": [
        "## [Cost vs rating]()"
      ]
    },
    {
      "metadata": {
        "trusted": true,
        "id": "ZyuakHeP27Rt"
      },
      "cell_type": "code",
      "source": [
        "plt.figure(figsize=(10,7))\n",
        "sns.scatterplot(x=\"rate\",y='approx_cost(for two people)',hue='online_order',data=cost_dist)\n",
        "plt.show()"
      ],
      "execution_count": null,
      "outputs": []
    },
    {
      "metadata": {
        "id": "8RtWL4eS27Rv"
      },
      "cell_type": "markdown",
      "source": [
        "-"
      ]
    },
    {
      "metadata": {
        "id": "Eu2HkgyP27Rx"
      },
      "cell_type": "markdown",
      "source": [
        "### [Distribution of cost for two people]()"
      ]
    },
    {
      "metadata": {
        "trusted": true,
        "id": "PJFBJRyL27Rz"
      },
      "cell_type": "code",
      "source": [
        "plt.figure(figsize=(6,6))\n",
        "sns.distplot(cost_dist['approx_cost(for two people)'])\n",
        "plt.show()"
      ],
      "execution_count": null,
      "outputs": []
    },
    {
      "metadata": {
        "id": "UDs0oV0P27R1"
      },
      "cell_type": "markdown",
      "source": [
        "- We can see that the distribution if left skewed.\n",
        "- This means almost 90percent of restaurants serve food for budget less than 1000 INR.($15)"
      ]
    },
    {
      "metadata": {
        "id": "eUxn7pmD27R3"
      },
      "cell_type": "markdown",
      "source": [
        "## [Is there any difference b/w votes of restaurants accepting and not accepting online orders?]()<a id=\"7\"></a> <br>\n"
      ]
    },
    {
      "metadata": {
        "trusted": true,
        "_kg_hide-input": true,
        "id": "iZq7X3y227R4"
      },
      "cell_type": "code",
      "source": [
        "\n",
        "\n",
        "votes_yes=df[df['online_order']==\"Yes\"]['votes']\n",
        "trace0=go.Box(y=votes_yes,name=\"accepting online orders\",\n",
        "              marker = dict(\n",
        "        color = 'rgb(214, 12, 140)',\n",
        "    ))\n",
        "\n",
        "votes_no=df[df['online_order']==\"No\"]['votes']\n",
        "trace1=go.Box(y=votes_no,name=\"Not accepting online orders\",\n",
        "              marker = dict(\n",
        "        color = 'rgb(0, 128, 128)',\n",
        "    ))\n",
        "\n",
        "layout = go.Layout(\n",
        "    title = \"Box Plots of votes\",width=800,height=500\n",
        ")\n",
        "\n",
        "data=[trace0,trace1]\n",
        "fig=go.Figure(data=data,layout=layout)\n",
        "py.iplot(fig)\n",
        "\n",
        "\n"
      ],
      "execution_count": null,
      "outputs": []
    },
    {
      "metadata": {
        "id": "qnan4-Zp27R6"
      },
      "cell_type": "markdown",
      "source": [
        "1. Yes,you can observe that median number of votes for both categories vary.\n",
        "2. Restaurants accepting online orders tend to get more votes from customers as there is a rating option poping up after each order through zomato application."
      ]
    },
    {
      "metadata": {
        "id": "U7qXklKH27R8"
      },
      "cell_type": "markdown",
      "source": [
        "## [Which are the most common restaurant type in Banglore?]()<a id=\"8\"></a> <br>\n"
      ]
    },
    {
      "metadata": {
        "trusted": true,
        "_kg_hide-input": true,
        "id": "SMGpIk8E27SV"
      },
      "cell_type": "code",
      "source": [
        "plt.figure(figsize=(7,7))\n",
        "rest=df['rest_type'].value_counts()[:20]\n",
        "sns.barplot(rest,rest.index)\n",
        "plt.title(\"Restaurant types\")\n",
        "plt.xlabel(\"count\")"
      ],
      "execution_count": null,
      "outputs": []
    },
    {
      "metadata": {
        "id": "38i_uDeG27SX"
      },
      "cell_type": "markdown",
      "source": [
        "1. No doubt about this as Banglore is known as the tech capital of India,people having busy and modern life will prefer Quick Bites.\n",
        "2. We can observe tha Quick Bites type restaurants dominates."
      ]
    },
    {
      "metadata": {
        "id": "5Y7bTfqn27SZ"
      },
      "cell_type": "markdown",
      "source": [
        "## [Cost factor ?]()<a id=\"9\"></a> <br>\n"
      ]
    },
    {
      "metadata": {
        "trusted": true,
        "_kg_hide-input": true,
        "id": "KOVXLudH27Sb"
      },
      "cell_type": "code",
      "source": [
        "trace0=go.Box(y=df['approx_cost(for two people)'],name=\"accepting online orders\",\n",
        "              marker = dict(\n",
        "        color = 'rgb(214, 12, 140)',\n",
        "    ))\n",
        "data=[trace0]\n",
        "layout=go.Layout(title=\"Box plot of approximate cost\",width=800,height=500,yaxis=dict(title=\"Price\"))\n",
        "fig=go.Figure(data=data,layout=layout)\n",
        "py.iplot(fig)"
      ],
      "execution_count": null,
      "outputs": []
    },
    {
      "metadata": {
        "id": "1VBDnbsF27Sd"
      },
      "cell_type": "markdown",
      "source": [
        "1. The median approximate cost for two people is 400 for a single meal.\n",
        "2. 50 percent of restaurants charge between 300 and 650 for single meal for two people.\n"
      ]
    },
    {
      "metadata": {
        "id": "Gno4_AOj27Se"
      },
      "cell_type": "markdown",
      "source": [
        "### [Finding Best budget Restaurants in any location]()"
      ]
    },
    {
      "metadata": {
        "id": "GM73w3Uk27Sg"
      },
      "cell_type": "markdown",
      "source": [
        "- I have implemented a simple filtering mechanism to find best budget restaurants in any locations in Bangalore.\n",
        "- You can pass location and restaurant type as parameteres,function will return name of restaurants.\n"
      ]
    },
    {
      "metadata": {
        "_kg_hide-input": true,
        "trusted": true,
        "id": "a7vF_Czz27Si"
      },
      "cell_type": "code",
      "source": [
        "cost_dist=df[['rate','approx_cost(for two people)','location','name','rest_type']].dropna()\n",
        "cost_dist['rate']=cost_dist['rate'].apply(lambda x: float(x.split('/')[0]) if len(x)>3 else 0)\n",
        "cost_dist['approx_cost(for two people)']=cost_dist['approx_cost(for two people)'].apply(lambda x: int(x.replace(',','')))"
      ],
      "execution_count": null,
      "outputs": []
    },
    {
      "metadata": {
        "_kg_hide-input": true,
        "trusted": true,
        "id": "767vQddm27Sk"
      },
      "cell_type": "code",
      "source": [
        "def return_budget(location,rest):\n",
        "    budget=cost_dist[(cost_dist['approx_cost(for two people)']<=400) & (cost_dist['location']==location) &\n",
        "                     (cost_dist['rate']>4) & (cost_dist['rest_type']==rest)]\n",
        "    return(budget['name'].unique())"
      ],
      "execution_count": null,
      "outputs": []
    },
    {
      "metadata": {
        "trusted": true,
        "id": "skDdWvwH27Sm"
      },
      "cell_type": "code",
      "source": [
        "return_budget('BTM',\"Quick Bites\")"
      ],
      "execution_count": null,
      "outputs": []
    },
    {
      "metadata": {
        "id": "YOLG1hxO27Sn"
      },
      "cell_type": "markdown",
      "source": [
        "## [Which are the foodie areas?]()<a id=\"10\"></a> <br>\n"
      ]
    },
    {
      "metadata": {
        "trusted": true,
        "_kg_hide-input": true,
        "id": "-Jjih4Jo27Sp"
      },
      "cell_type": "code",
      "source": [
        "plt.figure(figsize=(7,7))\n",
        "Rest_locations=df['location'].value_counts()[:20]\n",
        "sns.barplot(Rest_locations,Rest_locations.index,palette=\"rocket\")"
      ],
      "execution_count": null,
      "outputs": []
    },
    {
      "metadata": {
        "id": "wGnNknf627Sq"
      },
      "cell_type": "markdown",
      "source": [
        "1. We can see that **BTM,HSR and Koranmangala 5th block** has the most number of restaurants.\n",
        "2. BTM dominates the section by having more than 5000 restaurants."
      ]
    },
    {
      "metadata": {
        "id": "Uy-8DKV527Ss"
      },
      "cell_type": "markdown",
      "source": [
        "## [Which are the most common cuisines in each locations?]()<a id=\"11\"></a> <br>\n"
      ]
    },
    {
      "metadata": {
        "trusted": true,
        "_kg_hide-input": true,
        "id": "o5w0ei_327Su"
      },
      "cell_type": "code",
      "source": [
        "df_1=df.groupby(['location','cuisines']).agg('count')\n",
        "data=df_1.sort_values(['url'],ascending=False).groupby(['location'],\n",
        "                as_index=False).apply(lambda x : x.sort_values(by=\"url\",ascending=False).head(3))['url'].reset_index().rename(columns={'url':'count'})\n"
      ],
      "execution_count": null,
      "outputs": []
    },
    {
      "metadata": {
        "trusted": true,
        "id": "gMA82JTU27Sw"
      },
      "cell_type": "code",
      "source": [
        "\n",
        "data.head(10)"
      ],
      "execution_count": null,
      "outputs": []
    },
    {
      "metadata": {
        "id": "KatvnBFq27Sy"
      },
      "cell_type": "markdown",
      "source": [
        "## [Extracting location information using Geopy]()<a id=\"12\"></a> <br>\n"
      ]
    },
    {
      "metadata": {
        "trusted": true,
        "_kg_hide-input": true,
        "id": "JPVP_lWM27Sz"
      },
      "cell_type": "code",
      "source": [
        "locations=pd.DataFrame({\"Name\":df['location'].unique()})\n",
        "locations['Name']=locations['Name'].apply(lambda x: \"Bangalore \" + str(x))\n",
        "lat_lon=[]\n",
        "geolocator=Nominatim(user_agent=\"app\")\n",
        "for location in locations['Name']:\n",
        "    location = geolocator.geocode(location)\n",
        "    if location is None:\n",
        "        lat_lon.append(np.nan)\n",
        "    else:\n",
        "        geo=(location.latitude,location.longitude)\n",
        "        lat_lon.append(geo)\n",
        "\n",
        "\n",
        "locations['geo_loc']=lat_lon\n",
        "locations.to_csv('locations.csv',index=False)"
      ],
      "execution_count": null,
      "outputs": []
    },
    {
      "metadata": {
        "trusted": true,
        "_kg_hide-input": true,
        "id": "8g1OCsRa27S1"
      },
      "cell_type": "code",
      "source": [
        "locations[\"Name\"]=locations['Name'].apply(lambda x :  x.replace(\"Bangalore\",\"\")[1:])\n",
        "locations.head()"
      ],
      "execution_count": null,
      "outputs": []
    },
    {
      "metadata": {
        "id": "sjhxsznY27S2"
      },
      "cell_type": "markdown",
      "source": [
        "- We have found out latitude and longitude of each location listed in the dataset using geopy.\n",
        "- This is used to plot maps."
      ]
    },
    {
      "metadata": {
        "id": "9D9NL5vx27S4"
      },
      "cell_type": "markdown",
      "source": [
        "## [Heatmap of restaurant count on each location]()<a id=\"13\"></a> <br>\n"
      ]
    },
    {
      "metadata": {
        "trusted": true,
        "_kg_hide-input": true,
        "id": "_cdKevbF27S5"
      },
      "cell_type": "code",
      "source": [
        "Rest_locations=pd.DataFrame(df['location'].value_counts().reset_index())\n",
        "Rest_locations.columns=['Name','count']\n",
        "Rest_locations=Rest_locations.merge(locations,on='Name',how=\"left\").dropna()\n",
        "Rest_locations['count'].max()"
      ],
      "execution_count": null,
      "outputs": []
    },
    {
      "metadata": {
        "trusted": true,
        "_kg_hide-input": true,
        "id": "QyzvQs2e27S9"
      },
      "cell_type": "code",
      "source": [
        "def generateBaseMap(default_location=[12.97, 77.59], default_zoom_start=12):\n",
        "    base_map = folium.Map(location=default_location, control_scale=True, zoom_start=default_zoom_start)\n",
        "    return base_map"
      ],
      "execution_count": null,
      "outputs": []
    },
    {
      "metadata": {
        "trusted": true,
        "_kg_hide-input": true,
        "id": "540czymU27S_"
      },
      "cell_type": "code",
      "source": [
        "lat,lon=zip(*np.array(Rest_locations['geo_loc']))\n",
        "Rest_locations['lat']=lat\n",
        "Rest_locations['lon']=lon\n",
        "basemap=generateBaseMap()\n",
        "HeatMap(Rest_locations[['lat','lon','count']].values.tolist(),zoom=20,radius=15).add_to(basemap)"
      ],
      "execution_count": null,
      "outputs": []
    },
    {
      "metadata": {
        "trusted": true,
        "id": "-yFlK7N327TB"
      },
      "cell_type": "code",
      "source": [
        "basemap"
      ],
      "execution_count": null,
      "outputs": []
    },
    {
      "metadata": {
        "id": "UhOK86Xr27TE"
      },
      "cell_type": "markdown",
      "source": [
        "1. It is clear that restaurants tend to concentrate in central bangalore area.\n",
        "2. The clutter of restaurants lowers are we move away from central.\n",
        "3. So,potential restaurant entrepreneurs can refer this and find out good locations for their venture."
      ]
    },
    {
      "metadata": {
        "id": "7lFQG5u727TG"
      },
      "cell_type": "markdown",
      "source": [
        "## [Which are  the most popular cuisines of Bangalore?]()<a id=\"14\"></a> <br>\n"
      ]
    },
    {
      "metadata": {
        "trusted": true,
        "_kg_hide-input": true,
        "id": "dKKyGOKU27TJ"
      },
      "cell_type": "code",
      "source": [
        "plt.figure(figsize=(7,7))\n",
        "cuisines=df['cuisines'].value_counts()[:10]\n",
        "sns.barplot(cuisines,cuisines.index)\n",
        "plt.xlabel('Count')\n",
        "plt.title(\"Most popular cuisines of Bangalore\")"
      ],
      "execution_count": null,
      "outputs": []
    },
    {
      "metadata": {
        "id": "cCCW8oxj27TM"
      },
      "cell_type": "markdown",
      "source": [
        "1. We can observe that **North Indian,chinese,South Indian and Biriyani** are most common.\n",
        "2. Is this imply the fact that Banglore is more influenced by North Indian culture more than South?\n",
        "- We will inspect further......"
      ]
    },
    {
      "metadata": {
        "id": "iPuJJ-rL27TN"
      },
      "cell_type": "markdown",
      "source": [
        "## [Heatmap of North Indian restaurants]()<a id=\"15\"></a> <br>\n"
      ]
    },
    {
      "metadata": {
        "trusted": true,
        "_kg_hide-input": true,
        "id": "3JiEE3g127TP"
      },
      "cell_type": "code",
      "source": [
        "def produce_data(col,name):\n",
        "    data= pd.DataFrame(df[df[col]==name].groupby(['location'],as_index=False)['url'].agg('count'))\n",
        "    data.columns=['Name','count']\n",
        "    print(data.head())\n",
        "    data=data.merge(locations,on=\"Name\",how='left').dropna()\n",
        "    data['lan'],data['lon']=zip(*data['geo_loc'].values)\n",
        "    return data.drop(['geo_loc'],axis=1)\n",
        "\n"
      ],
      "execution_count": null,
      "outputs": []
    },
    {
      "metadata": {
        "trusted": true,
        "_kg_hide-input": true,
        "id": "ClFxkhWw27TR"
      },
      "cell_type": "code",
      "source": [
        "North_India=produce_data('cuisines','North Indian')"
      ],
      "execution_count": null,
      "outputs": []
    },
    {
      "metadata": {
        "trusted": true,
        "_kg_hide-input": true,
        "id": "XoihIdUI27TT"
      },
      "cell_type": "code",
      "source": [
        "basemap=generateBaseMap()\n",
        "HeatMap(North_India[['lan','lon','count']].values.tolist(),zoom=20,radius=15).add_to(basemap)\n",
        "basemap"
      ],
      "execution_count": null,
      "outputs": []
    },
    {
      "metadata": {
        "id": "6jnd5x6g27TV"
      },
      "cell_type": "markdown",
      "source": [
        "1. Interesting to see a cluster of North Indian Restaurants in South Bangalore area !\n",
        "2. This may indicate that these areas are more populated by North Indians."
      ]
    },
    {
      "metadata": {
        "id": "RfCJCj5127TW"
      },
      "cell_type": "markdown",
      "source": [
        "## [What about South  Indian cuisines?]()<a id=\"16\"></a> <br>\n"
      ]
    },
    {
      "metadata": {
        "trusted": true,
        "_kg_hide-input": true,
        "id": "N9a9qNsE27TX"
      },
      "cell_type": "code",
      "source": [
        "food=produce_data('cuisines','South Indian')\n",
        "basemap=generateBaseMap()\n",
        "HeatMap(food[['lan','lon','count']].values.tolist(),zoom=20,radius=15).add_to(basemap)\n",
        "basemap"
      ],
      "execution_count": null,
      "outputs": []
    },
    {
      "metadata": {
        "id": "YKti30QW27Ta"
      },
      "cell_type": "markdown",
      "source": [
        "1. They tend to span all over Bangalore.\n",
        "2. South Indian cuisines tend to cluster near central Bangalore."
      ]
    },
    {
      "metadata": {
        "id": "E7y4Dz0427Tc"
      },
      "cell_type": "markdown",
      "source": [
        "## [Analysing Restaurant chains]()<a id=\"17\"></a> <br>\n",
        ""
      ]
    },
    {
      "metadata": {
        "trusted": true,
        "_kg_hide-input": true,
        "id": "kAKGhkx227Tf"
      },
      "cell_type": "code",
      "source": [
        "def produce_chains(name):\n",
        "    data_chain=pd.DataFrame(df[df[\"name\"]==name]['location'].value_counts().reset_index())\n",
        "    data_chain.columns=['Name','count']\n",
        "    data_chain=data_chain.merge(locations,on=\"Name\",how=\"left\").dropna()\n",
        "    data_chain['lan'],data_chain['lon']=zip(*data_chain['geo_loc'].values)\n",
        "    return data_chain[['Name','count','lan','lon']]\n"
      ],
      "execution_count": null,
      "outputs": []
    },
    {
      "metadata": {
        "trusted": true,
        "id": "lc6iTI0n27Tj"
      },
      "cell_type": "code",
      "source": [],
      "execution_count": null,
      "outputs": []
    },
    {
      "metadata": {
        "trusted": true,
        "_kg_hide-input": true,
        "id": "gLcllCE227Tl"
      },
      "cell_type": "code",
      "source": [
        "df_1=df.groupby(['rest_type','name']).agg('count')\n",
        "datas=df_1.sort_values(['url'],ascending=False).groupby(['rest_type'],\n",
        "                as_index=False).apply(lambda x : x.sort_values(by=\"url\",ascending=False).head(3))['url'].reset_index().rename(columns={'url':'count'})\n"
      ],
      "execution_count": null,
      "outputs": []
    },
    {
      "metadata": {
        "trusted": true,
        "_kg_hide-input": true,
        "id": "MaOZjiC027Tn"
      },
      "cell_type": "code",
      "source": [
        "mapbox_access_token=\"pk.eyJ1Ijoic2hhaHVsZXMiLCJhIjoiY2p4ZTE5NGloMDc2YjNyczBhcDBnZnA5aCJ9.psBECQ2nub0o25PgHcU88w\"\n"
      ],
      "execution_count": null,
      "outputs": []
    },
    {
      "metadata": {
        "id": "VEr7jjsH27To"
      },
      "cell_type": "markdown",
      "source": [
        "## [Which are the most popular casual dining restaurant chains?]()<a id=\"18\"></a> <br>\n"
      ]
    },
    {
      "metadata": {
        "trusted": true,
        "_kg_hide-input": true,
        "id": "nB4UtPeN27Tq"
      },
      "cell_type": "code",
      "source": [
        "casual=datas[datas['rest_type']=='Casual Dining']\n",
        "casual"
      ],
      "execution_count": null,
      "outputs": []
    },
    {
      "metadata": {
        "id": "lMFFlYgJ27Tr"
      },
      "cell_type": "markdown",
      "source": [
        "- We can see tht **Empire restaurant,Beijing bites and Mani's dum biriyani** are the most popular casual dining restaurant chains in Bangalore.\n",
        "- We will inspect them further..."
      ]
    },
    {
      "metadata": {
        "id": "et82Q8AV27Tt"
      },
      "cell_type": "markdown",
      "source": [
        "## [Where are their outlets located?]()<a id=\"19\"></a> <br>\n"
      ]
    },
    {
      "metadata": {
        "trusted": true,
        "_kg_hide-input": true,
        "id": "tP9NxpEC27Tu"
      },
      "cell_type": "code",
      "source": [
        "def produce_trace(data_chain,name):\n",
        "        data_chain['text']=data_chain['Name']+'<br>'+data_chain['count'].astype(str)\n",
        "        trace =  go.Scattermapbox(\n",
        "\n",
        "                lat=data_chain['lan'],\n",
        "                lon=data_chain['lon'],\n",
        "                mode='markers',\n",
        "                marker=go.scattermapbox.Marker(\n",
        "                    size=data_chain['count']*4\n",
        "                ),\n",
        "                text=data_chain['text'],name=name\n",
        "            )\n",
        "\n",
        "        return trace"
      ],
      "execution_count": null,
      "outputs": []
    },
    {
      "metadata": {
        "trusted": true,
        "_kg_hide-input": true,
        "id": "DXkNzDke27Tw"
      },
      "cell_type": "code",
      "source": [
        "\n",
        "data=[]\n",
        "for row in casual['name']:\n",
        "    data_chain=produce_chains(row)\n",
        "    trace_0=produce_trace(data_chain,row)\n",
        "    data.append(trace_0)\n",
        "\n",
        "\n",
        "\n",
        "layout = go.Layout(title=\"Casual Dining Restaurant chains locations around Banglore\",\n",
        "    autosize=True,\n",
        "    hovermode='closest',\n",
        "    mapbox=dict(\n",
        "        accesstoken=mapbox_access_token,\n",
        "        bearing=0,style=\"streets\",\n",
        "        center=dict(\n",
        "            lat=12.96,\n",
        "            lon=77.59\n",
        "        ),\n",
        "        pitch=0,\n",
        "        zoom=10\n",
        "    ),\n",
        ")\n",
        "\n",
        "\n",
        "fig = dict(data=data, layout=layout)\n",
        "py.iplot(fig, filename='Montreal Mapbox')"
      ],
      "execution_count": null,
      "outputs": []
    },
    {
      "metadata": {
        "id": "vvSh2lzc27Ty"
      },
      "cell_type": "markdown",
      "source": [
        "1. We can see that **Mani's dum biriyani** restaurant has half of their restaurants in central Banglore.\n",
        "2. ** Empire Restaurant** is present in all over Banglore.\n",
        "3. **Mani's dum Biriyani** has 12 outlets in ulsoor,which is the most in a single location."
      ]
    },
    {
      "metadata": {
        "id": "_UC167RG27Tz"
      },
      "cell_type": "markdown",
      "source": [
        "## [Top quick bites restaurant chains in Banglore]()<a id=\"20\"></a> <br>\n"
      ]
    },
    {
      "metadata": {
        "trusted": true,
        "_kg_hide-input": true,
        "id": "9uzH9B_f27T1"
      },
      "cell_type": "code",
      "source": [
        "quick=datas[datas['rest_type']=='Quick Bites']\n",
        "quick"
      ],
      "execution_count": null,
      "outputs": []
    },
    {
      "metadata": {
        "id": "hR98sovf27T2"
      },
      "cell_type": "markdown",
      "source": [
        "- Surprisingly  ** Five star chicken** dominates in quick bites restaurant types overtaking famous **Domino's Pizza and McDonald's**.\n",
        "- Five Star Chicken is a branch of Charoen Pokphand Group Foods, a Thai multinational conglomerate with over $12 billion business in Agro and Food       Industries. Five Star Chicken specialties in fried chicken."
      ]
    },
    {
      "metadata": {
        "id": "rA6nT0I227T4"
      },
      "cell_type": "markdown",
      "source": [
        "## [Where are their outlets located?]()<a id=\"21\"></a> <br>\n"
      ]
    },
    {
      "metadata": {
        "trusted": true,
        "_kg_hide-input": true,
        "id": "iItKBZwv27T5"
      },
      "cell_type": "code",
      "source": [
        "data=[]\n",
        "for row in quick['name']:\n",
        "    data_chain=produce_chains(row)\n",
        "    trace_0=produce_trace(data_chain,row)\n",
        "    data.append(trace_0)\n",
        "\n",
        "\n",
        "\n",
        "layout = go.Layout(title=\"Quick Bites Restaurant chains locations around Banglore\",\n",
        "    autosize=True,\n",
        "    hovermode='closest',\n",
        "    mapbox=dict(\n",
        "        accesstoken=mapbox_access_token,\n",
        "        bearing=0,style=\"streets\",\n",
        "        center=dict(\n",
        "            lat=12.96,\n",
        "            lon=77.59\n",
        "        ),\n",
        "        pitch=0,\n",
        "        zoom=10\n",
        "    ),\n",
        ")\n",
        "\n",
        "\n",
        "fig = dict(data=data, layout=layout)\n",
        "py.iplot(fig, filename='Montreal Mapbox')"
      ],
      "execution_count": null,
      "outputs": []
    },
    {
      "metadata": {
        "id": "9IUeg6s727T7"
      },
      "cell_type": "markdown",
      "source": [
        "## [Top Cafes of Banglore?]()<a id=\"22\"></a> <br>\n"
      ]
    },
    {
      "metadata": {
        "trusted": true,
        "_kg_hide-input": true,
        "id": "m3dmM2yb27T8"
      },
      "cell_type": "code",
      "source": [
        "cafe=datas[datas['rest_type']=='Cafe']\n",
        "cafe"
      ],
      "execution_count": null,
      "outputs": []
    },
    {
      "metadata": {
        "id": "dFHMApol27T-"
      },
      "cell_type": "markdown",
      "source": [
        "- No surprises,Cafe coffee day restaurant dominated way over other cafe chains in Banglore.\n",
        "- Cafe coffee day has 96 outlets in Banglore.\n",
        "- Café Coffee Day was started as a retail restaurant in 1996. The first CCD outlet was set up on July 11, 1996, at Brigade Road, Bengaluru, Karnataka.\n"
      ]
    },
    {
      "metadata": {
        "id": "3eBeb56B27UA"
      },
      "cell_type": "markdown",
      "source": [
        "## [Where are their outlets located?]()<a id=\"23\"></a> <br>\n"
      ]
    },
    {
      "metadata": {
        "trusted": true,
        "_kg_hide-input": true,
        "id": "KBX67k_f27UB"
      },
      "cell_type": "code",
      "source": [
        "data=[]\n",
        "for row in cafe['name']:\n",
        "    data_chain=produce_chains(row)\n",
        "    trace_0=produce_trace(data_chain,row)\n",
        "    data.append(trace_0)\n",
        "\n",
        "\n",
        "\n",
        "layout = go.Layout(title=\"Cafe Restaurant chains locations around Banglore\",\n",
        "    autosize=True,\n",
        "    hovermode='closest',\n",
        "    mapbox=dict(\n",
        "        accesstoken=mapbox_access_token,\n",
        "        bearing=0,style=\"streets\",\n",
        "        center=dict(\n",
        "            lat=12.96,\n",
        "            lon=77.59\n",
        "        ),\n",
        "        pitch=0,\n",
        "        zoom=10\n",
        "    ),\n",
        ")\n",
        "\n",
        "\n",
        "fig = dict(data=data, layout=layout)\n",
        "py.iplot(fig, filename='Montreal Mapbox')"
      ],
      "execution_count": null,
      "outputs": []
    },
    {
      "metadata": {
        "id": "mQ-5KVlB27UD"
      },
      "cell_type": "markdown",
      "source": [
        "## [Wordcloud of dishes liked by cuisines.]()<a id=\"24\"></a> <br>\n"
      ]
    },
    {
      "metadata": {
        "trusted": true,
        "_kg_hide-input": true,
        "id": "MKydN_2g27UF"
      },
      "cell_type": "code",
      "source": [
        "df['dish_liked']=df['dish_liked'].apply(lambda x : x.split(',') if type(x)==str else [''])\n",
        "#x=df.groupby('rest_type',as_index=False)['dish_liked'].agg('sum')\n",
        "#x['dish_liked']=x['dish_liked'].apply(lambda x : list(filter(lambda a : a!='',x)))"
      ],
      "execution_count": null,
      "outputs": []
    },
    {
      "metadata": {
        "trusted": true,
        "_kg_hide-input": true,
        "id": "JvlCB2bE27UH"
      },
      "cell_type": "code",
      "source": [
        "rest=df['rest_type'].value_counts()[:9].index\n",
        "def produce_wordcloud(rest):\n",
        "\n",
        "    plt.figure(figsize=(20,30))\n",
        "    for i,r in enumerate(rest):\n",
        "        plt.subplot(3,3,i+1)\n",
        "        corpus=df[df['rest_type']==r]['dish_liked'].values.tolist()\n",
        "        corpus=','.join(x  for list_words in corpus for x in list_words)\n",
        "        wordcloud = WordCloud(max_font_size=None, background_color='white', collocations=False,\n",
        "                      width=1500, height=1500).generate(corpus)\n",
        "        plt.imshow(wordcloud)\n",
        "        plt.title(r)\n",
        "        plt.axis(\"off\")\n",
        "\n",
        "\n",
        "\n",
        "\n",
        "produce_wordcloud(rest)"
      ],
      "execution_count": null,
      "outputs": []
    },
    {
      "metadata": {
        "trusted": true,
        "id": "TWdDDwf427UJ"
      },
      "cell_type": "markdown",
      "source": [
        "## [Analysing Reviews]()<a id=\"26\"></a><br>"
      ]
    },
    {
      "metadata": {
        "id": "pA77noWa27UK"
      },
      "cell_type": "markdown",
      "source": [
        "- In this section we will go on to prepare reviews dataframe.\n",
        "- We will extract reviews and ratings of each restaurant and create a dataframe with it.\n"
      ]
    },
    {
      "metadata": {
        "trusted": true,
        "_kg_hide-input": false,
        "id": "N43P0s0U27UM"
      },
      "cell_type": "code",
      "source": [
        "all_ratings = []\n",
        "\n",
        "for name,ratings in tqdm(zip(df['name'],df['reviews_list'])):\n",
        "    ratings = eval(ratings)\n",
        "    for score, doc in ratings:\n",
        "        if score:\n",
        "            score = score.strip(\"Rated\").strip()\n",
        "            doc = doc.strip('RATED').strip()\n",
        "            score = float(score)\n",
        "            all_ratings.append([name,score, doc])"
      ],
      "execution_count": null,
      "outputs": []
    },
    {
      "metadata": {
        "trusted": true,
        "id": "9Jx4qbrr27UP"
      },
      "cell_type": "code",
      "source": [
        "rating_df=pd.DataFrame(all_ratings,columns=['name','rating','review'])\n",
        "rating_df['review']=rating_df['review'].apply(lambda x : re.sub('[^a-zA-Z0-9\\s]',\"\",x))"
      ],
      "execution_count": null,
      "outputs": []
    },
    {
      "metadata": {
        "_kg_hide-input": true,
        "trusted": true,
        "id": "IB9PrIk127UR"
      },
      "cell_type": "code",
      "source": [
        "rating_df.to_csv(\"Ratings.csv\")"
      ],
      "execution_count": null,
      "outputs": []
    },
    {
      "metadata": {
        "trusted": true,
        "_kg_hide-input": true,
        "id": "qVABaPg227UT"
      },
      "cell_type": "code",
      "source": [
        "rating_df.head()"
      ],
      "execution_count": null,
      "outputs": []
    },
    {
      "metadata": {
        "id": "Jy7PbUwZ27UV"
      },
      "cell_type": "markdown",
      "source": [
        "## [WordCloud of Reviews of restaurant chains]()<a id=\"27\"></a><br>"
      ]
    },
    {
      "metadata": {
        "trusted": true,
        "_kg_hide-input": true,
        "id": "sJZZPq4727UX"
      },
      "cell_type": "code",
      "source": [
        "rest=df['name'].value_counts()[:9].index\n",
        "def produce_wordcloud(rest):\n",
        "\n",
        "    plt.figure(figsize=(20,30))\n",
        "    for i,r in enumerate(rest):\n",
        "        plt.subplot(3,3,i+1)\n",
        "        corpus=rating_df[rating_df['name']==r]['review'].values.tolist()\n",
        "        corpus=' '.join(x  for x in corpus)\n",
        "        wordcloud = WordCloud(max_font_size=None, background_color='white', collocations=False,\n",
        "                      width=1500, height=1500).generate(corpus)\n",
        "        plt.imshow(wordcloud)\n",
        "        plt.title(r)\n",
        "        plt.axis(\"off\")\n",
        "\n",
        "\n",
        "\n",
        "\n",
        "produce_wordcloud(rest)"
      ],
      "execution_count": null,
      "outputs": []
    },
    {
      "metadata": {
        "id": "F3Vi_T_-27Ua"
      },
      "cell_type": "markdown",
      "source": [
        "## [Rating distribution]()<a id=\"28\" ></a><br>"
      ]
    },
    {
      "metadata": {
        "trusted": true,
        "_kg_hide-input": true,
        "id": "jmfJDXmg27Uc"
      },
      "cell_type": "code",
      "source": [
        "plt.figure(figsize=(7,6))\n",
        "rating=rating_df['rating'].value_counts()\n",
        "sns.barplot(x=rating.index,y=rating)\n",
        "plt.xlabel(\"Ratings\")\n",
        "plt.ylabel('count')"
      ],
      "execution_count": null,
      "outputs": []
    },
    {
      "metadata": {
        "id": "AlfwtYI927Uf"
      },
      "cell_type": "markdown",
      "source": [
        "## [Topic modelling]()<a id=\"33\" ></a><br>"
      ]
    },
    {
      "metadata": {
        "id": "r9et13is27Uh"
      },
      "cell_type": "markdown",
      "source": [
        "We will do topic modelling for postive and negative comments seperately to understand the different between the two types."
      ]
    },
    {
      "metadata": {
        "id": "98B96-9n27Uk"
      },
      "cell_type": "markdown",
      "source": [
        "##  [Topic modeling for positive comments]()<a id=\"34\" ></a><br>"
      ]
    },
    {
      "metadata": {
        "id": "uM_A31al27Um"
      },
      "cell_type": "markdown",
      "source": [
        "- As the first step we will divide comments as negative and positive on the basis on rating provided.\n",
        "- Comments with rating below 2.5 is classified as negative and greater tham 2.5 as classified as positive."
      ]
    },
    {
      "metadata": {
        "trusted": true,
        "id": "6iZhrEr027Up"
      },
      "cell_type": "code",
      "source": [
        "rating_df['sent']=rating_df['rating'].apply(lambda x: 1 if int(x)>2.5 else 0)\n"
      ],
      "execution_count": null,
      "outputs": []
    },
    {
      "metadata": {
        "id": "L7qTCF7C27Ur"
      },
      "cell_type": "markdown",
      "source": [
        "Now,\n",
        "   - we will remove stopwords\n",
        "   - Lemmatize each word\n",
        "   - Create corpus\n",
        "   - Tokenize them"
      ]
    },
    {
      "metadata": {
        "trusted": true,
        "_kg_hide-input": true,
        "id": "vsAoAVbX27Uu"
      },
      "cell_type": "code",
      "source": [
        "stops=stopwords.words('english')\n",
        "lem=WordNetLemmatizer()\n",
        "corpus=' '.join(lem.lemmatize(x) for x in rating_df[rating_df['sent']==1]['review'][:3000] if x not in stops)\n",
        "tokens=word_tokenize(corpus)\n"
      ],
      "execution_count": null,
      "outputs": []
    },
    {
      "metadata": {
        "id": "Q8_4MUsZ27Ux"
      },
      "cell_type": "markdown",
      "source": [
        "> Now we will  use **Termfrequency Inverse doc frequency(Tfidf)** to vectorize the tokens."
      ]
    },
    {
      "metadata": {
        "_kg_hide-input": true,
        "trusted": true,
        "id": "Ijqt5fzs27Uz"
      },
      "cell_type": "code",
      "source": [
        "\n",
        "vect=TfidfVectorizer()\n",
        "vect_fit=vect.fit(tokens)\n",
        ""
      ],
      "execution_count": null,
      "outputs": []
    },
    {
      "metadata": {
        "id": "69BiAB1H27U2"
      },
      "cell_type": "markdown",
      "source": [
        "**Latent Dirichlet allocation**"
      ]
    },
    {
      "metadata": {
        "trusted": true,
        "_kg_hide-input": true,
        "id": "mrGONaDR27U4"
      },
      "cell_type": "code",
      "source": [
        "id_map=dict((v,k) for k,v in vect.vocabulary_.items())\n",
        "vectorized_data=vect_fit.transform(tokens)\n",
        "gensim_corpus=gensim.matutils.Sparse2Corpus(vectorized_data,documents_columns=False)\n",
        "ldamodel = gensim.models.ldamodel.LdaModel(gensim_corpus,id2word=id_map,num_topics=5,random_state=34,passes=25)\n"
      ],
      "execution_count": null,
      "outputs": []
    },
    {
      "metadata": {
        "id": "VVlhSunN27U6"
      },
      "cell_type": "markdown",
      "source": [
        "## [Visualizing output]()<a id=\"28\" ></a><br>"
      ]
    },
    {
      "metadata": {
        "id": "FtVImYVi27U9"
      },
      "cell_type": "markdown",
      "source": [
        "**Word Counts of Topic Keywords**\n",
        "\n",
        "When it comes to the keywords in the topics, the importance (weights) of the keywords matters. Along with that, how frequently the words have appeared in the documents is also interesting to look.\n",
        "\n",
        "Let’s plot the word counts and the weights of each keyword in the same chart.\n",
        "\n",
        "You want to keep an eye out on the words that occur in multiple topics and the ones whose relative frequency is more than the weight. Often such words turn out to be less important. The chart I’ve drawn below is a result of adding several such words to the stop words list in the beginning and re-running the training process."
      ]
    },
    {
      "metadata": {
        "trusted": true,
        "id": "4T_p65-h27U_"
      },
      "cell_type": "code",
      "source": [
        "counter=Counter(corpus)"
      ],
      "execution_count": null,
      "outputs": []
    },
    {
      "metadata": {
        "trusted": true,
        "_kg_hide-input": true,
        "id": "1PXUsyde27VC"
      },
      "cell_type": "code",
      "source": [
        "out=[]\n",
        "topics=ldamodel.show_topics(formatted=False)\n",
        "for i,topic in topics:\n",
        "    for word,weight in topic:\n",
        "        out.append([word,i,weight,counter[word]])\n",
        "\n",
        "dataframe = pd.DataFrame(out, columns=['word', 'topic_id', 'importance', 'word_count'])\n",
        "\n",
        "\n",
        "# Plot Word Count and Weights of Topic Keywords\n",
        "fig, axes = plt.subplots(2, 2, figsize=(8,6), sharey=True, dpi=160)\n",
        "cols = [color for name, color in mcolors.TABLEAU_COLORS.items()]\n",
        "for i, ax in enumerate(axes.flatten()):\n",
        "    ax.bar(x='word', height=\"word_count\", data=dataframe.loc[dataframe.topic_id==i, :], color=cols[i], width=0.3, alpha=0.3, label='Word Count')\n",
        "    ax_twin = ax.twinx()\n",
        "    ax_twin.bar(x='word', height=\"importance\", data=dataframe.loc[dataframe.topic_id==i, :], color=cols[i], width=0.2, label='Weights')\n",
        "    ax.set_ylabel('Word Count', color=cols[i])\n",
        "    #ax_twin.set_ylim(0, 0.030); ax.set_ylim(0, 3500)\n",
        "    ax.set_title('Topic: ' + str(i), color=cols[i], fontsize=8)\n",
        "    ax.tick_params(axis='y', left=False)\n",
        "    ax.set_xticklabels(dataframe.loc[dataframe.topic_id==i, 'word'], rotation=30, horizontalalignment= 'right')\n",
        "    ax.legend(loc='upper left'); ax_twin.legend(loc='upper right')\n",
        "\n",
        "fig.tight_layout(w_pad=2)\n",
        "fig.suptitle('Word Count and Importance of Topic Keywords', fontsize=8, y=1.05)\n",
        "plt.show()"
      ],
      "execution_count": null,
      "outputs": []
    },
    {
      "metadata": {
        "id": "28cD5WjO27VF"
      },
      "cell_type": "markdown",
      "source": [
        "## [Topic modeling for negative comments]()<a id=\"35\" ></a><br>"
      ]
    },
    {
      "metadata": {
        "_kg_hide-input": true,
        "trusted": true,
        "id": "Gf-zQFJK27VI"
      },
      "cell_type": "code",
      "source": [
        "stops=stopwords.words('english')\n",
        "lem=WordNetLemmatizer()\n",
        "corpus=' '.join(lem.lemmatize(x) for x in rating_df[rating_df['sent']==0]['review'][:3000] if x not in stops)\n",
        "tokens=word_tokenize(corpus)"
      ],
      "execution_count": null,
      "outputs": []
    },
    {
      "metadata": {
        "_kg_hide-input": true,
        "trusted": true,
        "id": "x0ri-3Oa27VK"
      },
      "cell_type": "code",
      "source": [
        "vect=TfidfVectorizer()\n",
        "vect_fit=vect.fit(tokens)\n",
        "id_map=dict((v,k) for k,v in vect.vocabulary_.items())\n",
        "vectorized_data=vect_fit.transform(tokens)\n",
        "gensim_corpus=gensim.matutils.Sparse2Corpus(vectorized_data,documents_columns=False)\n",
        "ldamodel = gensim.models.ldamodel.LdaModel(gensim_corpus,id2word=id_map,num_topics=5,random_state=34,passes=25)\n",
        "\n",
        ""
      ],
      "execution_count": null,
      "outputs": []
    },
    {
      "metadata": {
        "_kg_hide-input": true,
        "trusted": true,
        "id": "9k_DqnI427VN"
      },
      "cell_type": "code",
      "source": [
        "counter=Counter(corpus)\n",
        "out=[]\n",
        "topics=ldamodel.show_topics(formatted=False)\n",
        "for i,topic in topics:\n",
        "    for word,weight in topic:\n",
        "        out.append([word,i,weight,counter[word]])\n",
        "\n",
        "dataframe = pd.DataFrame(out, columns=['word', 'topic_id', 'importance', 'word_count'])\n",
        "\n",
        "\n",
        "# Plot Word Count and Weights of Topic Keywords\n",
        "fig, axes = plt.subplots(2, 2, figsize=(8,6), sharey=True, dpi=160)\n",
        "cols = [color for name, color in mcolors.TABLEAU_COLORS.items()]\n",
        "for i, ax in enumerate(axes.flatten()):\n",
        "    ax.bar(x='word', height=\"word_count\", data=dataframe.loc[dataframe.topic_id==i, :], color=cols[i], width=0.3, alpha=0.3, label='Word Count')\n",
        "    ax_twin = ax.twinx()\n",
        "    ax_twin.bar(x='word', height=\"importance\", data=dataframe.loc[dataframe.topic_id==i, :], color=cols[i], width=0.2, label='Weights')\n",
        "    ax.set_ylabel('Word Count', color=cols[i])\n",
        "    #ax_twin.set_ylim(0, 0.030); ax.set_ylim(0, 3500)\n",
        "    ax.set_title('Topic: ' + str(i), color=cols[i], fontsize=8)\n",
        "    ax.tick_params(axis='y', left=False)\n",
        "    ax.set_xticklabels(dataframe.loc[dataframe.topic_id==i, 'word'], rotation=30, horizontalalignment= 'right')\n",
        "    ax.legend(loc='upper left'); ax_twin.legend(loc='upper right')\n",
        "\n",
        "fig.tight_layout(w_pad=2)\n",
        "fig.suptitle('Word Count and Importance of Topic Keywords', fontsize=8, y=1.05)\n",
        "plt.show()"
      ],
      "execution_count": null,
      "outputs": []
    },
    {
      "metadata": {
        "id": "3LRWrhdA27VP"
      },
      "cell_type": "markdown",
      "source": [
        "- We can clearly observe the difference between the two types of comments\n",
        "- The words used are clearly distinguishable.\n",
        "- The words used in negative comments are clearly critisizing.\n",
        "- The word used in positive comments  are clearly appreciating."
      ]
    },
    {
      "metadata": {
        "id": "TkhaPf2D27VR"
      },
      "cell_type": "markdown",
      "source": [
        "### T-SNE of Reviews"
      ]
    },
    {
      "metadata": {
        "id": "aEyZY5YS27VS"
      },
      "cell_type": "markdown",
      "source": [
        "(t-SNE) t-Distributed Stochastic Neighbor Embedding is a non-linear dimensionality reduction algorithm used for exploring high-dimensional data. It maps multi-dimensional data to two or more dimensions suitable for human observation. With help of the t-SNE algorithms, you may have to plot fewer exploratory data analysis plots next time you work with high dimensional data.\n",
        "![](https://s3-ap-south-1.amazonaws.com/av-blog-media/wp-content/uploads/2017/01/19100947/20131959678_bf1a8e3fcc_b-768x798.jpg)"
      ]
    },
    {
      "metadata": {
        "id": "Og-zriIB27VU"
      },
      "cell_type": "markdown",
      "source": [
        "In this section we will visualize words used in reviews in a 2 dimensional space.\n",
        "- For that we will first lemmatize and tokenize each reviews and build a corpus out of it."
      ]
    },
    {
      "metadata": {
        "_kg_hide-input": true,
        "trusted": true,
        "id": "-2JHsWxS27VV"
      },
      "cell_type": "code",
      "source": [
        "stops=set(stopwords.words('english'))\n",
        "lem=WordNetLemmatizer()\n",
        "corpus=[]\n",
        "for review in tqdm(rating_df['review'][:10000]):\n",
        "    words=[]\n",
        "    for x in word_tokenize(review):\n",
        "        x=lem.lemmatize(x.lower())\n",
        "        if x not in stops:\n",
        "            words.append(x)\n",
        "\n",
        "    corpus.append(words)"
      ],
      "execution_count": null,
      "outputs": []
    },
    {
      "metadata": {
        "id": "bHEHWk0Y27VX"
      },
      "cell_type": "markdown",
      "source": [
        "Now we will use word2vec to represent each word as a vector."
      ]
    },
    {
      "metadata": {
        "_kg_hide-input": true,
        "trusted": true,
        "id": "EoAS6Z9Q27VY"
      },
      "cell_type": "code",
      "source": [
        "model = word2vec.Word2Vec(corpus, size=100, window=20, min_count=200, workers=4)"
      ],
      "execution_count": null,
      "outputs": []
    },
    {
      "metadata": {
        "_kg_hide-input": true,
        "trusted": true,
        "id": "eAsiD2qj27Va"
      },
      "cell_type": "code",
      "source": [
        "def tsne_plot(model):\n",
        "    \"Creates and TSNE model and plots it\"\n",
        "    labels = []\n",
        "    tokens = []\n",
        "\n",
        "    for word in model.wv.vocab:\n",
        "        tokens.append(model[word])\n",
        "        labels.append(word)\n",
        "\n",
        "    tsne_model = TSNE(perplexity=40, n_components=2, init='pca', n_iter=2500, random_state=23)\n",
        "    new_values = tsne_model.fit_transform(tokens)\n",
        "\n",
        "    x = []\n",
        "    y = []\n",
        "    for value in new_values:\n",
        "        x.append(value[0])\n",
        "        y.append(value[1])\n",
        "\n",
        "    plt.figure(figsize=(10, 10))\n",
        "    for i in range(len(x)):\n",
        "        plt.scatter(x[i],y[i])\n",
        "        plt.annotate(labels[i],\n",
        "                     xy=(x[i], y[i]),\n",
        "                     xytext=(5, 2),\n",
        "                     textcoords='offset points',\n",
        "                     ha='right',\n",
        "                     va='bottom')\n",
        "    plt.show()\n"
      ],
      "execution_count": null,
      "outputs": []
    },
    {
      "metadata": {
        "trusted": true,
        "id": "t6RG405I27Vc"
      },
      "cell_type": "code",
      "source": [
        "tsne_plot(model)"
      ],
      "execution_count": null,
      "outputs": []
    },
    {
      "metadata": {
        "id": "oKbnNahB27Ve"
      },
      "cell_type": "markdown",
      "source": [
        "### T-SNE of adjectivs used in postive reviews"
      ]
    },
    {
      "metadata": {
        "_kg_hide-input": true,
        "trusted": true,
        "id": "r5_KbzbP27Vg"
      },
      "cell_type": "code",
      "source": [
        "postive=rating_df[rating_df['rating']>3]['review'][:2000]\n",
        "negative=rating_df[rating_df['rating']<2.5]['review'][:2000]\n",
        "\n",
        "def return_corpus(df):\n",
        "    corpus=[]\n",
        "    for review in df:\n",
        "        tagged=nltk.pos_tag(word_tokenize(review))\n",
        "        adj=[]\n",
        "        for x in tagged:\n",
        "            if x[1]=='JJ':\n",
        "                adj.append(x[0])\n",
        "        corpus.append(adj)\n",
        "    return corpus"
      ],
      "execution_count": null,
      "outputs": []
    },
    {
      "metadata": {
        "id": "3Fb6aJVg27Vi"
      },
      "cell_type": "markdown",
      "source": [
        "Wow,we can observe all the adjective used in the postive reviews represented in the 2D space."
      ]
    },
    {
      "metadata": {
        "_kg_hide-input": true,
        "trusted": true,
        "id": "0PsOyxRK27Vk"
      },
      "cell_type": "code",
      "source": [
        "corpus=return_corpus(postive)\n",
        "model = word2vec.Word2Vec(corpus, size=100, min_count=10,window=20, workers=4)\n",
        "tsne_plot(model)"
      ],
      "execution_count": null,
      "outputs": []
    },
    {
      "metadata": {
        "id": "cy2b7Kw227Vm"
      },
      "cell_type": "markdown",
      "source": [
        "### T-SNE of adjectives used in Negative reviews"
      ]
    },
    {
      "metadata": {
        "_kg_hide-input": true,
        "trusted": true,
        "id": "xHzxlr_M27Vn"
      },
      "cell_type": "code",
      "source": [
        "corpus=return_corpus(negative)\n",
        "model = word2vec.Word2Vec(corpus, size=100, min_count=10,window=20, workers=4)\n",
        "tsne_plot(model)"
      ],
      "execution_count": null,
      "outputs": []
    },
    {
      "metadata": {
        "id": "j8KmunDc27Vp"
      },
      "cell_type": "markdown",
      "source": []
    },
    {
      "metadata": {
        "id": "OzRufvTw27Vq"
      },
      "cell_type": "markdown",
      "source": [
        "## [Sentimental Analysis]()<a id=\"29\" ></a><br>"
      ]
    },
    {
      "metadata": {
        "id": "0cG4YmV227Vr"
      },
      "cell_type": "markdown",
      "source": [
        "Sentiment Analysis is the process of computationally determining whether a piece of writing is positive, negative or neutral. It’s also known as opinion mining, deriving the opinion or attitude of a speaker.\n",
        "\n"
      ]
    },
    {
      "metadata": {
        "id": "QjYATPDr27Vt"
      },
      "cell_type": "markdown",
      "source": [
        "![](https://www.geeksforgeeks.org/wp-content/uploads/Twitter-Sentiment-Analysis-using-Python.jpg)"
      ]
    },
    {
      "metadata": {
        "id": "1q27J_qc27Vu"
      },
      "cell_type": "markdown",
      "source": [
        "## [Data preparation]()<a id=\"30\" ></a><br>\n"
      ]
    },
    {
      "metadata": {
        "id": "c6VQ9xmM27Vw"
      },
      "cell_type": "markdown",
      "source": [
        "For doing sentimental analysis on reviews provided bt users.We have to prepare our data in appropriate format.\n",
        "We will map reviews to positive and negative on the basis of the ratings provided by each user.So,we will map reviews to negative if the rating given is less than 2.5 and positive if rating is greater than 2.5\n"
      ]
    },
    {
      "metadata": {
        "trusted": true,
        "id": "1Hm8kRKy27Vy"
      },
      "cell_type": "code",
      "source": [
        "rating_df['sent']=rating_df['rating'].apply(lambda x: 1 if int(x)>2.5 else 0)"
      ],
      "execution_count": null,
      "outputs": []
    },
    {
      "metadata": {
        "id": "UyNjkaf527V0"
      },
      "cell_type": "markdown",
      "source": [
        "- Next, we will tokenize the data and vectorize the reviews to feed it to our model.\n"
      ]
    },
    {
      "metadata": {
        "trusted": true,
        "_kg_hide-input": true,
        "id": "xghbyOWu27V2"
      },
      "cell_type": "code",
      "source": [
        "max_features=3000\n",
        "tokenizer=Tokenizer(num_words=max_features,split=' ')\n",
        "tokenizer.fit_on_texts(rating_df['review'].values)\n",
        "X = tokenizer.texts_to_sequences(rating_df['review'].values)\n",
        "X = pad_sequences(X)\n"
      ],
      "execution_count": null,
      "outputs": []
    },
    {
      "metadata": {
        "id": "2Y3EPj-B27V4"
      },
      "cell_type": "markdown",
      "source": [
        "## [Building our model]()<a id=\"31\" ></a><br>"
      ]
    },
    {
      "metadata": {
        "trusted": true,
        "_kg_hide-input": true,
        "id": "B9Nm-3QA27V6"
      },
      "cell_type": "code",
      "source": [
        "embed_dim = 32\n",
        "lstm_out = 32\n",
        "\n",
        "model = Sequential()\n",
        "model.add(Embedding(max_features, embed_dim,input_length = X.shape[1]))\n",
        "#model.add(SpatialDropout1D(0.4))\n",
        "model.add(LSTM(lstm_out, dropout=0.2, recurrent_dropout=0.2))\n",
        "model.add(Dense(2,activation='softmax'))\n",
        "\n",
        "model.compile(loss = 'categorical_crossentropy', optimizer='adam',metrics = ['accuracy'])\n",
        "print(model.summary())"
      ],
      "execution_count": null,
      "outputs": []
    },
    {
      "metadata": {
        "id": "cfRNhO6X27V8"
      },
      "cell_type": "markdown",
      "source": [
        "#### Train and test split"
      ]
    },
    {
      "metadata": {
        "id": "BuKwVg0127V9"
      },
      "cell_type": "markdown",
      "source": [
        "- We will now encode our target variable. **pd.get_dummies** is used for on-hot encoding.\n",
        "- 33 percent of data is reserved for testing our model"
      ]
    },
    {
      "metadata": {
        "trusted": true,
        "_kg_hide-input": true,
        "id": "7fb7_5Kt27V_"
      },
      "cell_type": "code",
      "source": [
        "Y = pd.get_dummies(rating_df['sent'].astype(int)).values\n",
        "X_train, X_test, Y_train, Y_test = train_test_split(X,Y, test_size = 0.33, random_state = 42)\n",
        "print(X_train.shape,Y_train.shape)\n",
        "print(X_test.shape,Y_test.shape)\n",
        "\n"
      ],
      "execution_count": null,
      "outputs": []
    },
    {
      "metadata": {
        "trusted": true,
        "id": "k3JL0KlR27WB"
      },
      "cell_type": "code",
      "source": [
        "batch_size = 3200\n",
        "model.fit(X_train, Y_train, epochs = 5, batch_size=batch_size)\n"
      ],
      "execution_count": null,
      "outputs": []
    },
    {
      "metadata": {
        "id": "RXuav3v327WD"
      },
      "cell_type": "markdown",
      "source": [
        "### [Validating our model]()<a id=\"32\" ></a><br>"
      ]
    },
    {
      "metadata": {
        "id": "-nd_IJE327WE"
      },
      "cell_type": "markdown",
      "source": [
        "We will take 1500 rows to validate our model.We have choosen **accuacy** to be our evaluation criteria."
      ]
    },
    {
      "metadata": {
        "trusted": true,
        "_kg_hide-input": true,
        "id": "9tas_ie927WG"
      },
      "cell_type": "code",
      "source": [
        "validation_size = 1500\n",
        "\n",
        "X_validate = X_test[-validation_size:]\n",
        "Y_validate = Y_test[-validation_size:]\n",
        "X_test = X_test[:-validation_size]\n",
        "Y_test = Y_test[:-validation_size]\n",
        "score,acc = model.evaluate(X_test, Y_test, verbose = 2, batch_size = batch_size)\n",
        "print(\"score: %.2f\" % (score))\n",
        "print(\"acc: %.2f\" % (acc))"
      ],
      "execution_count": null,
      "outputs": []
    },
    {
      "metadata": {
        "id": "rcRPgtSa27WH"
      },
      "cell_type": "markdown",
      "source": [
        "<font color='red' size=4>  If you like my kernel please consider upvoting.</font>\n",
        "\n",
        "<font color='green' size=3>Comments are most welcomed !</font>    "
      ]
    },
    {
      "metadata": {
        "trusted": true,
        "id": "UvMWqlGk27WJ"
      },
      "cell_type": "code",
      "source": [],
      "execution_count": null,
      "outputs": []
    }
  ],
  "metadata": {
    "kernelspec": {
      "display_name": "Python 3",
      "language": "python",
      "name": "python3"
    },
    "language_info": {
      "name": "python",
      "version": "3.6.4",
      "mimetype": "text/x-python",
      "codemirror_mode": {
        "name": "ipython",
        "version": 3
      },
      "pygments_lexer": "ipython3",
      "nbconvert_exporter": "python",
      "file_extension": ".py"
    },
    "colab": {
      "name": "Zomato Complete EDA and LSTM model",
      "provenance": [],
      "include_colab_link": true
    }
  },
  "nbformat": 4,
  "nbformat_minor": 0
}