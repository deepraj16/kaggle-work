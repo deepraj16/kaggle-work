{
 "cells": [
  {
   "cell_type": "code",
   "execution_count": 15,
   "id": "4b264b89-9377-473a-a2df-09a1e038c67e",
   "metadata": {},
   "outputs": [
    {
     "data": {
      "text/plain": [
       "['elonmusk', 'teslarati', 'dummy_tesla', 'dummy_2_tesla']"
      ]
     },
     "execution_count": 15,
     "metadata": {},
     "output_type": "execute_result"
    }
   ],
   "source": [
    "import re\n",
    "text = '''\n",
    "Follow our leader Elon musk on twitter here: https://twitter.com/elonmusk, more information \n",
    "on Tesla's products can be found at https://www.tesla.com/. Also here are leading influencers \n",
    "for tesla related news,\n",
    "https://twitter.com/teslarati\n",
    "https://twitter.com/dummy_tesla\n",
    "https://twitter.com/dummy_2_tesla\n",
    "'''\n",
    "pattern='https://twitter.com/([a-zA-Z0-9_]+)'\n",
    "re.findall(pattern, text)"
   ]
  },
  {
   "cell_type": "code",
   "execution_count": 27,
   "id": "adba7dfc-bcf0-4f00-80e5-77e4d4b54b4f",
   "metadata": {},
   "outputs": [
    {
     "data": {
      "text/plain": [
       "[' Credit Risk', ' Supply Risk']"
      ]
     },
     "execution_count": 27,
     "metadata": {},
     "output_type": "execute_result"
    }
   ],
   "source": [
    "text = '''\n",
    "Concentration of Risk: Credit Risk\n",
    "Financial instruments that potentially subject us to a concentration of credit risk consist of cash, cash equivalents, marketable securities,\n",
    "restricted cash, accounts receivable, convertible note hedges, and interest rate swaps. Our cash balances are primarily invested in money market funds\n",
    "or on deposit at high credit quality financial institutions in the U.S. These deposits are typically in excess of insured limits. As of September 30, 2021\n",
    "and December 31, 2020, no entity represented 10% or more of our total accounts receivable balance. The risk of concentration for our convertible note\n",
    "hedges and interest rate swaps is mitigated by transacting with several highly-rated multinational banks.\n",
    "Concentration of Risk: Supply Risk\n",
    "We are dependent on our suppliers, including single source suppliers, and the inability of these suppliers to deliver necessary components of our\n",
    "products in a timely manner at prices, quality levels and volumes acceptable to us, or our inability to efficiently manage these components from these\n",
    "suppliers, could have a material adverse effect on our business, prospects, financial condition and operating results.\n",
    "'''\n",
    "re.findall('Concentration of Risk:([^\\n]+)',text)"
   ]
  },
  {
   "cell_type": "code",
   "execution_count": 28,
   "id": "408cf114-c0e3-4435-b26a-d126e8751d69",
   "metadata": {},
   "outputs": [],
   "source": [
    "from nltk import word_tokenize"
   ]
  },
  {
   "cell_type": "code",
   "execution_count": 48,
   "id": "303c2982-5b4a-4620-8ae8-492795cbe708",
   "metadata": {},
   "outputs": [
    {
     "data": {
      "text/plain": [
       "['I', 'love', 'you', 'so', 'much']"
      ]
     },
     "execution_count": 48,
     "metadata": {},
     "output_type": "execute_result"
    }
   ],
   "source": [
    "b='I love you so much'\n",
    "word_tokenize(b)"
   ]
  },
  {
   "cell_type": "code",
   "execution_count": 34,
   "id": "ee286217-0c82-4a41-a426-50c2517c46dd",
   "metadata": {},
   "outputs": [],
   "source": [
    "t=['@Obama says goodbye','Retweets for @cash','A political endorsement in @Indonesia', '1 dog = many #retweets', 'Just a simple #egg']"
   ]
  },
  {
   "cell_type": "code",
   "execution_count": 41,
   "id": "359a8e3c-1da2-4564-ba64-08372049a2d4",
   "metadata": {},
   "outputs": [
    {
     "data": {
      "text/plain": [
       "['Obama', 'cash', 'Indonesia']"
      ]
     },
     "execution_count": 41,
     "metadata": {},
     "output_type": "execute_result"
    }
   ],
   "source": [
    "re.findall('@([a-zA-Z]+)',s)"
   ]
  },
  {
   "cell_type": "code",
   "execution_count": 35,
   "id": "239e3951-2b5b-4d1a-9341-52e826675573",
   "metadata": {},
   "outputs": [],
   "source": [
    "s=\"\"\n",
    "for i in t:\n",
    "    s=s+' '+i"
   ]
  },
  {
   "cell_type": "code",
   "execution_count": 36,
   "id": "84abcdc1-d02e-41f3-95c8-77a9496bcf86",
   "metadata": {},
   "outputs": [
    {
     "data": {
      "text/plain": [
       "' @Obama says goodbye Retweets for @cash A political endorsement in @Indonesia 1 dog = many #retweets Just a simple #egg'"
      ]
     },
     "execution_count": 36,
     "metadata": {},
     "output_type": "execute_result"
    }
   ],
   "source": [
    "s"
   ]
  },
  {
   "cell_type": "code",
   "execution_count": 43,
   "id": "a411c6f8-44ac-4bf2-82f9-1d46239cf642",
   "metadata": {},
   "outputs": [],
   "source": [
    "from autocorrect import Speller"
   ]
  },
  {
   "cell_type": "code",
   "execution_count": 44,
   "id": "dd88f818-0863-4835-b55d-5f8affedfa8c",
   "metadata": {},
   "outputs": [],
   "source": [
    "o=Speller(lang='en')"
   ]
  },
  {
   "cell_type": "code",
   "execution_count": 47,
   "id": "08189495-73b0-4f8a-823d-70dd260e1bc5",
   "metadata": {},
   "outputs": [
    {
     "data": {
      "text/plain": [
       "'good'"
      ]
     },
     "execution_count": 47,
     "metadata": {},
     "output_type": "execute_result"
    }
   ],
   "source": [
    "o(\"goodi\")"
   ]
  },
  {
   "cell_type": "code",
   "execution_count": 62,
   "id": "e0037fb3-fb1c-4d49-9c8f-1d240ba01184",
   "metadata": {},
   "outputs": [
    {
     "data": {
      "text/plain": [
       "['412889912']"
      ]
     },
     "execution_count": 62,
     "metadata": {},
     "output_type": "execute_result"
    }
   ],
   "source": [
    "\n",
    "chat1='Hello,I am having an issue with my order # 412889912 '\n",
    "re.findall('order[^\\d]*(\\d*)',chat1)"
   ]
  },
  {
   "cell_type": "code",
   "execution_count": 73,
   "id": "38a8aa1a-6a3b-4015-8dac-bf4da57d0967",
   "metadata": {},
   "outputs": [
    {
     "data": {
      "text/plain": [
       "['abc@xyz.com']"
      ]
     },
     "execution_count": 73,
     "metadata": {},
     "output_type": "execute_result"
    }
   ],
   "source": [
    "chat1='you ask lot of questions 1235678912,abc@xyz.com fg'\n",
    "re.findall('[a-zA-Z0-9]*@[a-zA-Z0-9]*.\\.[a-zA-Z0-9]*',chat1)"
   ]
  },
  {
   "cell_type": "code",
   "execution_count": 89,
   "id": "d0b6467d-1ed6-4b6d-9f5a-4dd3b4b6302f",
   "metadata": {},
   "outputs": [
    {
     "data": {
      "text/plain": [
       "['you ask lot of questions 1235678912', ',abc@xyz.com fg', '']"
      ]
     },
     "execution_count": 89,
     "metadata": {},
     "output_type": "execute_result"
    }
   ],
   "source": [
    "re.findall('[^\\d]*[\\d]*',chat1)"
   ]
  },
  {
   "cell_type": "code",
   "execution_count": null,
   "id": "04366b47-9425-4def-b0dc-296d8c608b83",
   "metadata": {},
   "outputs": [],
   "source": []
  }
 ],
 "metadata": {
  "kernelspec": {
   "display_name": "Python 3 (ipykernel)",
   "language": "python",
   "name": "python3"
  },
  "language_info": {
   "codemirror_mode": {
    "name": "ipython",
    "version": 3
   },
   "file_extension": ".py",
   "mimetype": "text/x-python",
   "name": "python",
   "nbconvert_exporter": "python",
   "pygments_lexer": "ipython3",
   "version": "3.11.7"
  }
 },
 "nbformat": 4,
 "nbformat_minor": 5
}
