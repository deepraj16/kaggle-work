{
  "nbformat": 4,
  "nbformat_minor": 0,
  "metadata": {
    "colab": {
      "private_outputs": true,
      "provenance": [],
      "authorship_tag": "ABX9TyMPqfOUEIJKy0lDMDKvzdVQ",
      "include_colab_link": true
    },
    "kernelspec": {
      "name": "python3",
      "display_name": "Python 3"
    },
    "language_info": {
      "name": "python"
    }
  },
  "cells": [
    {
      "cell_type": "markdown",
      "metadata": {
        "id": "view-in-github",
        "colab_type": "text"
      },
      "source": [
        "<a href=\"https://colab.research.google.com/github/deepraj16/kaggle-work/blob/main/SCM-work-on-letter-data.ipynb\" target=\"_parent\"><img src=\"https://colab.research.google.com/assets/colab-badge.svg\" alt=\"Open In Colab\"/></a>"
      ]
    },
    {
      "cell_type": "code",
      "execution_count": null,
      "metadata": {
        "id": "lkN3C8nTOtsu"
      },
      "outputs": [],
      "source": [
        "import pandas as pd\n",
        "import numpy as np\n",
        "from sklearn.model_selection import train_test_split\n",
        "from sklearn.svm import SVC\n",
        "from sklearn.metrics import accuracy_score\n",
        "import matplotlib.pyplot as plt\n",
        "import seaborn as sns"
      ]
    },
    {
      "cell_type": "code",
      "source": [
        "df=pd.read_csv(\"/content/letterdata.csv\")"
      ],
      "metadata": {
        "id": "3JTIabPzPecq"
      },
      "execution_count": null,
      "outputs": []
    },
    {
      "cell_type": "code",
      "source": [
        "df.sample(3)"
      ],
      "metadata": {
        "id": "fu1dRcvDPzmk"
      },
      "execution_count": null,
      "outputs": []
    },
    {
      "cell_type": "code",
      "source": [
        "df.shape"
      ],
      "metadata": {
        "id": "WruiagIaP1Jn"
      },
      "execution_count": null,
      "outputs": []
    },
    {
      "cell_type": "code",
      "source": [
        "# from _typeshed import IdentityFunction\n",
        "# from types import resolve_bases\n",
        "# info about the data the data has handwritten letters character reconitons or resolve\n",
        "# mL task heres breckdown of its structures\n",
        "\n",
        "\n",
        "# letter Repseting the tagrtes class (the letther beng IdentityFunction )"
      ],
      "metadata": {
        "id": "EvaM2pZIP3Rm"
      },
      "execution_count": null,
      "outputs": []
    },
    {
      "cell_type": "code",
      "source": [
        "train , test =train_test_split(df,test_size=0.2,random_state=42)"
      ],
      "metadata": {
        "id": "0SHO4JDLQrAW"
      },
      "execution_count": null,
      "outputs": []
    },
    {
      "cell_type": "code",
      "source": [
        "train_X= train.iloc[:,1:]\n",
        "train_Y=train.iloc[:,0]\n",
        "test_X=test.iloc[:,1:]\n",
        "test_Y=test.iloc[:,0]"
      ],
      "metadata": {
        "id": "_rnVP8WtRy1M"
      },
      "execution_count": null,
      "outputs": []
    },
    {
      "cell_type": "code",
      "source": [
        "#Kernal Linerar\n",
        "model_linerar=SVC(kernel=\"linear\")\n",
        "model_linerar.fit(train_X,train_Y)\n"
      ],
      "metadata": {
        "id": "1CuRhyavR6GJ"
      },
      "execution_count": null,
      "outputs": []
    },
    {
      "cell_type": "code",
      "source": [
        "pred_test=model_linerar.predict(test_X)\n",
        "acc_linerar=accuracy_score(test_Y,pred_test)\n",
        "print(acc_linerar)"
      ],
      "metadata": {
        "id": "BWh-biOCSMkr"
      },
      "execution_count": null,
      "outputs": []
    },
    {
      "cell_type": "code",
      "source": [
        "# kernal = rbf\n",
        "model_rbf=SVC(kernel=\"rbf\")\n",
        "model_rbf.fit(train_X,train_Y)"
      ],
      "metadata": {
        "id": "mcjoE7VNSRRH"
      },
      "execution_count": null,
      "outputs": []
    },
    {
      "cell_type": "code",
      "source": [
        "y_pred=model_rbf.predict(test_X)\n",
        "acc_rbf=accuracy_score(test_Y,y_pred)\n",
        "print(acc_rbf)"
      ],
      "metadata": {
        "id": "7YIsjf85SV9K"
      },
      "execution_count": null,
      "outputs": []
    },
    {
      "cell_type": "code",
      "source": [
        "# accuracy is more then i thing"
      ],
      "metadata": {
        "id": "wHSIpDNUSc25"
      },
      "execution_count": null,
      "outputs": []
    },
    {
      "cell_type": "code",
      "source": [
        "df.info()"
      ],
      "metadata": {
        "id": "NRSYN7TBSmbb"
      },
      "execution_count": null,
      "outputs": []
    },
    {
      "cell_type": "code",
      "source": [
        "from sklearn.decomposition import PCA\n",
        "pca=PCA(n_components=2)\n",
        "X_pca=pca.fit_transform(df.iloc[:,1:])\n",
        ""
      ],
      "metadata": {
        "id": "txG8Y6C0Sn1c"
      },
      "execution_count": null,
      "outputs": []
    },
    {
      "cell_type": "code",
      "source": [
        "X=pd.DataFrame(X_pca)"
      ],
      "metadata": {
        "id": "_OzcORyfS2G8"
      },
      "execution_count": null,
      "outputs": []
    },
    {
      "cell_type": "code",
      "source": [
        "X['target']=df['letter']"
      ],
      "metadata": {
        "id": "Xdutoi17TWOw"
      },
      "execution_count": null,
      "outputs": []
    },
    {
      "cell_type": "code",
      "source": [
        "X"
      ],
      "metadata": {
        "id": "SBQ9ri34TtaX"
      },
      "execution_count": null,
      "outputs": []
    },
    {
      "cell_type": "code",
      "source": [
        "sns.scatterplot(data=X,x=0,y=1,hue='target')"
      ],
      "metadata": {
        "id": "7SSmwV6YTuiV"
      },
      "execution_count": null,
      "outputs": []
    },
    {
      "cell_type": "code",
      "source": [
        "import plotly.express as px\n",
        "fig=px.scatter(X,x=0,y=1,color='target')\n",
        "fig.show()"
      ],
      "metadata": {
        "id": "GQIZDO0LTzN1"
      },
      "execution_count": null,
      "outputs": []
    },
    {
      "cell_type": "code",
      "source": [
        "from sklearn.decomposition import PCA\n",
        "pca=PCA(n_components=3)\n",
        "X_pca=pca.fit_transform(df.iloc[:,1:])\n",
        ""
      ],
      "metadata": {
        "id": "OVKHuD9sURcj"
      },
      "execution_count": null,
      "outputs": []
    },
    {
      "cell_type": "code",
      "source": [
        "X1=pd.DataFrame(X_pca)"
      ],
      "metadata": {
        "id": "ILthe7RlUYuZ"
      },
      "execution_count": null,
      "outputs": []
    },
    {
      "cell_type": "code",
      "source": [
        "X1['target']=df['letter']"
      ],
      "metadata": {
        "id": "eRisOeXyUcr0"
      },
      "execution_count": null,
      "outputs": []
    },
    {
      "cell_type": "code",
      "source": [
        "X1"
      ],
      "metadata": {
        "id": "cxwNXF5PUhBE"
      },
      "execution_count": null,
      "outputs": []
    },
    {
      "cell_type": "code",
      "source": [
        "fig = px.scatter_3d(X1,x=0,y=1,z=2,color='target')\n",
        "fig.update_layout(\n",
        "    margin=dict(l=30, r=20, t=20, b=20),\n",
        "    paper_bgcolor=\"LightSteelBlue\",\n",
        ")\n",
        "fig.show()"
      ],
      "metadata": {
        "id": "LOB9f98gUqIr"
      },
      "execution_count": null,
      "outputs": []
    },
    {
      "cell_type": "code",
      "source": [
        "X_train,X_test,y_train,y_test=train_test_split(X1.iloc[:,:3],X1['target'],test_size=0.2,random_state=42)\n",
        "scm=SVC(kernel=\"linear\")\n",
        "scm.fit(X_train,y_train)"
      ],
      "metadata": {
        "id": "zs6DrFBsVUQs"
      },
      "execution_count": null,
      "outputs": []
    },
    {
      "cell_type": "code",
      "source": [
        "y_pre=scm.predict(X_test)"
      ],
      "metadata": {
        "id": "OdnS3ES8VUIa"
      },
      "execution_count": null,
      "outputs": []
    },
    {
      "cell_type": "code",
      "source": [
        "accuracy_score(y_test,y_pre)"
      ],
      "metadata": {
        "id": "AnJRUQUVUsj1"
      },
      "execution_count": null,
      "outputs": []
    },
    {
      "cell_type": "code",
      "source": [],
      "metadata": {
        "id": "dMnjnvFxWXgw"
      },
      "execution_count": null,
      "outputs": []
    }
  ]
}