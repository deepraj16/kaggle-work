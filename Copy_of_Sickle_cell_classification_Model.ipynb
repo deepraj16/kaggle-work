{
  "metadata": {
    "kernelspec": {
      "language": "python",
      "display_name": "Python 3",
      "name": "python3"
    },
    "language_info": {
      "name": "python",
      "version": "3.10.13",
      "mimetype": "text/x-python",
      "codemirror_mode": {
        "name": "ipython",
        "version": 3
      },
      "pygments_lexer": "ipython3",
      "nbconvert_exporter": "python",
      "file_extension": ".py"
    },
    "kaggle": {
      "accelerator": "gpu",
      "dataSources": [
        {
          "sourceId": 7883255,
          "sourceType": "datasetVersion",
          "datasetId": 3913975
        }
      ],
      "dockerImageVersionId": 30684,
      "isInternetEnabled": true,
      "language": "python",
      "sourceType": "notebook",
      "isGpuEnabled": true
    },
    "colab": {
      "provenance": [],
      "include_colab_link": true
    }
  },
  "nbformat_minor": 0,
  "nbformat": 4,
  "cells": [
    {
      "cell_type": "markdown",
      "metadata": {
        "id": "view-in-github",
        "colab_type": "text"
      },
      "source": [
        "<a href=\"https://colab.research.google.com/github/deepraj16/kaggle-work/blob/main/Copy_of_Sickle_cell_classification_Model.ipynb\" target=\"_parent\"><img src=\"https://colab.research.google.com/assets/colab-badge.svg\" alt=\"Open In Colab\"/></a>"
      ]
    },
    {
      "source": [
        "# IMPORTANT: RUN THIS CELL IN ORDER TO IMPORT YOUR KAGGLE DATA SOURCES,\n",
        "# THEN FEEL FREE TO DELETE THIS CELL.\n",
        "# NOTE: THIS NOTEBOOK ENVIRONMENT DIFFERS FROM KAGGLE'S PYTHON\n",
        "# ENVIRONMENT SO THERE MAY BE MISSING LIBRARIES USED BY YOUR\n",
        "# NOTEBOOK.\n",
        "import kagglehub\n",
        "florencetushabe_sickle_cell_disease_dataset_path = kagglehub.dataset_download('florencetushabe/sickle-cell-disease-dataset')\n",
        "\n",
        "print('Data source import complete.')\n"
      ],
      "metadata": {
        "id": "xR4YnSxRMQgv",
        "colab": {
          "base_uri": "https://localhost:8080/"
        },
        "outputId": "ed67ca89-44db-411c-eb75-147d5aa3bee1"
      },
      "cell_type": "code",
      "outputs": [
        {
          "output_type": "stream",
          "name": "stdout",
          "text": [
            "Downloading from https://www.kaggle.com/api/v1/datasets/download/florencetushabe/sickle-cell-disease-dataset?dataset_version_number=13...\n"
          ]
        },
        {
          "output_type": "stream",
          "name": "stderr",
          "text": [
            "100%|██████████| 253M/253M [00:05<00:00, 51.8MB/s]"
          ]
        },
        {
          "output_type": "stream",
          "name": "stdout",
          "text": [
            "Extracting files...\n"
          ]
        },
        {
          "output_type": "stream",
          "name": "stderr",
          "text": [
            "\n"
          ]
        },
        {
          "output_type": "stream",
          "name": "stdout",
          "text": [
            "Data source import complete.\n"
          ]
        }
      ],
      "execution_count": null
    },
    {
      "cell_type": "markdown",
      "source": [
        "# Introduction\n",
        "\n",
        "The Sickle Cell Dataset is the very first Uganda Based Data Collected of Its Kind. We are excited to have been among the first to interact with it. This Notebook shows how we trained a model to classify the Images."
      ],
      "metadata": {
        "id": "iOCdBE1MMQgy"
      }
    },
    {
      "cell_type": "code",
      "source": [
        "# This Python 3 environment comes with many helpful analytics libraries installed\n",
        "# It is defined by the kaggle/python Docker image: https://github.com/kaggle/docker-python\n",
        "# For example, here's several helpful packages to load\n",
        "\n",
        "import numpy as np # linear algebra\n",
        "import pandas as pd # data processing, CSV file I/O (e.g. pd.read_csv)\n",
        "from PIL import Image\n",
        "import matplotlib.pyplot as plt"
      ],
      "metadata": {
        "_uuid": "8f2839f25d086af736a60e9eeb907d3b93b6e0e5",
        "_cell_guid": "b1076dfc-b9ad-4769-8c92-a6c4dae69d19",
        "execution": {
          "iopub.status.busy": "2024-07-15T11:00:35.586059Z",
          "iopub.execute_input": "2024-07-15T11:00:35.586796Z",
          "iopub.status.idle": "2024-07-15T11:00:36.490248Z",
          "shell.execute_reply.started": "2024-07-15T11:00:35.586761Z",
          "shell.execute_reply": "2024-07-15T11:00:36.489228Z"
        },
        "trusted": true,
        "id": "E73PT53KMQgz"
      },
      "execution_count": null,
      "outputs": []
    },
    {
      "cell_type": "code",
      "source": [
        "sample_image = \"/kaggle/input/sickle-cell-disease-dataset/Positive/Labelled/1.jpg\"\n"
      ],
      "metadata": {
        "execution": {
          "iopub.status.busy": "2024-07-15T11:00:36.491951Z",
          "iopub.execute_input": "2024-07-15T11:00:36.492334Z",
          "iopub.status.idle": "2024-07-15T11:00:36.496524Z",
          "shell.execute_reply.started": "2024-07-15T11:00:36.492308Z",
          "shell.execute_reply": "2024-07-15T11:00:36.495563Z"
        },
        "trusted": true,
        "id": "IT_BCr8RMQgz"
      },
      "execution_count": null,
      "outputs": []
    },
    {
      "cell_type": "code",
      "source": [
        "image = plt.imread(sample_image)\n",
        "print(image.shape)"
      ],
      "metadata": {
        "execution": {
          "iopub.status.busy": "2024-07-15T11:00:36.497697Z",
          "iopub.execute_input": "2024-07-15T11:00:36.498022Z",
          "iopub.status.idle": "2024-07-15T11:00:36.538613Z",
          "shell.execute_reply.started": "2024-07-15T11:00:36.497991Z",
          "shell.execute_reply": "2024-07-15T11:00:36.537772Z"
        },
        "trusted": true,
        "id": "BAoqGK06MQgz",
        "colab": {
          "base_uri": "https://localhost:8080/",
          "height": 304
        },
        "outputId": "e5d92d13-f2d0-4f89-c57b-d51a2fe15fbd"
      },
      "execution_count": null,
      "outputs": [
        {
          "output_type": "error",
          "ename": "FileNotFoundError",
          "evalue": "[Errno 2] No such file or directory: '/kaggle/input/sickle-cell-disease-dataset/Positive/Labelled/1.jpg'",
          "traceback": [
            "\u001b[0;31m---------------------------------------------------------------------------\u001b[0m",
            "\u001b[0;31mFileNotFoundError\u001b[0m                         Traceback (most recent call last)",
            "\u001b[0;32m<ipython-input-5-0360eddbebfe>\u001b[0m in \u001b[0;36m<cell line: 0>\u001b[0;34m()\u001b[0m\n\u001b[0;32m----> 1\u001b[0;31m \u001b[0mimage\u001b[0m \u001b[0;34m=\u001b[0m \u001b[0mplt\u001b[0m\u001b[0;34m.\u001b[0m\u001b[0mimread\u001b[0m\u001b[0;34m(\u001b[0m\u001b[0msample_image\u001b[0m\u001b[0;34m)\u001b[0m\u001b[0;34m\u001b[0m\u001b[0;34m\u001b[0m\u001b[0m\n\u001b[0m\u001b[1;32m      2\u001b[0m \u001b[0mprint\u001b[0m\u001b[0;34m(\u001b[0m\u001b[0mimage\u001b[0m\u001b[0;34m.\u001b[0m\u001b[0mshape\u001b[0m\u001b[0;34m)\u001b[0m\u001b[0;34m\u001b[0m\u001b[0;34m\u001b[0m\u001b[0m\n",
            "\u001b[0;32m/usr/local/lib/python3.11/dist-packages/matplotlib/pyplot.py\u001b[0m in \u001b[0;36mimread\u001b[0;34m(fname, format)\u001b[0m\n\u001b[1;32m   2611\u001b[0m         \u001b[0mfname\u001b[0m\u001b[0;34m:\u001b[0m \u001b[0mstr\u001b[0m \u001b[0;34m|\u001b[0m \u001b[0mpathlib\u001b[0m\u001b[0;34m.\u001b[0m\u001b[0mPath\u001b[0m \u001b[0;34m|\u001b[0m \u001b[0mBinaryIO\u001b[0m\u001b[0;34m,\u001b[0m \u001b[0mformat\u001b[0m\u001b[0;34m:\u001b[0m \u001b[0mstr\u001b[0m \u001b[0;34m|\u001b[0m \u001b[0;32mNone\u001b[0m \u001b[0;34m=\u001b[0m \u001b[0;32mNone\u001b[0m\u001b[0;34m\u001b[0m\u001b[0;34m\u001b[0m\u001b[0m\n\u001b[1;32m   2612\u001b[0m ) -> np.ndarray:\n\u001b[0;32m-> 2613\u001b[0;31m     \u001b[0;32mreturn\u001b[0m \u001b[0mmatplotlib\u001b[0m\u001b[0;34m.\u001b[0m\u001b[0mimage\u001b[0m\u001b[0;34m.\u001b[0m\u001b[0mimread\u001b[0m\u001b[0;34m(\u001b[0m\u001b[0mfname\u001b[0m\u001b[0;34m,\u001b[0m \u001b[0mformat\u001b[0m\u001b[0;34m)\u001b[0m\u001b[0;34m\u001b[0m\u001b[0;34m\u001b[0m\u001b[0m\n\u001b[0m\u001b[1;32m   2614\u001b[0m \u001b[0;34m\u001b[0m\u001b[0m\n\u001b[1;32m   2615\u001b[0m \u001b[0;34m\u001b[0m\u001b[0m\n",
            "\u001b[0;32m/usr/local/lib/python3.11/dist-packages/matplotlib/image.py\u001b[0m in \u001b[0;36mimread\u001b[0;34m(fname, format)\u001b[0m\n\u001b[1;32m   1500\u001b[0m             \u001b[0;34m\"``np.array(PIL.Image.open(urllib.request.urlopen(url)))``.\"\u001b[0m\u001b[0;34m\u001b[0m\u001b[0;34m\u001b[0m\u001b[0m\n\u001b[1;32m   1501\u001b[0m             )\n\u001b[0;32m-> 1502\u001b[0;31m     \u001b[0;32mwith\u001b[0m \u001b[0mimg_open\u001b[0m\u001b[0;34m(\u001b[0m\u001b[0mfname\u001b[0m\u001b[0;34m)\u001b[0m \u001b[0;32mas\u001b[0m \u001b[0mimage\u001b[0m\u001b[0;34m:\u001b[0m\u001b[0;34m\u001b[0m\u001b[0;34m\u001b[0m\u001b[0m\n\u001b[0m\u001b[1;32m   1503\u001b[0m         return (_pil_png_to_float_array(image)\n\u001b[1;32m   1504\u001b[0m                 \u001b[0;32mif\u001b[0m \u001b[0misinstance\u001b[0m\u001b[0;34m(\u001b[0m\u001b[0mimage\u001b[0m\u001b[0;34m,\u001b[0m \u001b[0mPIL\u001b[0m\u001b[0;34m.\u001b[0m\u001b[0mPngImagePlugin\u001b[0m\u001b[0;34m.\u001b[0m\u001b[0mPngImageFile\u001b[0m\u001b[0;34m)\u001b[0m \u001b[0;32melse\u001b[0m\u001b[0;34m\u001b[0m\u001b[0;34m\u001b[0m\u001b[0m\n",
            "\u001b[0;32m/usr/local/lib/python3.11/dist-packages/PIL/Image.py\u001b[0m in \u001b[0;36mopen\u001b[0;34m(fp, mode, formats)\u001b[0m\n\u001b[1;32m   3463\u001b[0m \u001b[0;34m\u001b[0m\u001b[0m\n\u001b[1;32m   3464\u001b[0m     \u001b[0;32mif\u001b[0m \u001b[0mfilename\u001b[0m\u001b[0;34m:\u001b[0m\u001b[0;34m\u001b[0m\u001b[0;34m\u001b[0m\u001b[0m\n\u001b[0;32m-> 3465\u001b[0;31m         \u001b[0mfp\u001b[0m \u001b[0;34m=\u001b[0m \u001b[0mbuiltins\u001b[0m\u001b[0;34m.\u001b[0m\u001b[0mopen\u001b[0m\u001b[0;34m(\u001b[0m\u001b[0mfilename\u001b[0m\u001b[0;34m,\u001b[0m \u001b[0;34m\"rb\"\u001b[0m\u001b[0;34m)\u001b[0m\u001b[0;34m\u001b[0m\u001b[0;34m\u001b[0m\u001b[0m\n\u001b[0m\u001b[1;32m   3466\u001b[0m         \u001b[0mexclusive_fp\u001b[0m \u001b[0;34m=\u001b[0m \u001b[0;32mTrue\u001b[0m\u001b[0;34m\u001b[0m\u001b[0;34m\u001b[0m\u001b[0m\n\u001b[1;32m   3467\u001b[0m     \u001b[0;32melse\u001b[0m\u001b[0;34m:\u001b[0m\u001b[0;34m\u001b[0m\u001b[0;34m\u001b[0m\u001b[0m\n",
            "\u001b[0;31mFileNotFoundError\u001b[0m: [Errno 2] No such file or directory: '/kaggle/input/sickle-cell-disease-dataset/Positive/Labelled/1.jpg'"
          ]
        }
      ]
    },
    {
      "cell_type": "code",
      "source": [
        "plt.imshow(image)"
      ],
      "metadata": {
        "execution": {
          "iopub.status.busy": "2024-07-15T11:00:36.54089Z",
          "iopub.execute_input": "2024-07-15T11:00:36.541535Z"
        },
        "trusted": true,
        "id": "Mi5_v_30MQg0"
      },
      "execution_count": null,
      "outputs": []
    },
    {
      "cell_type": "code",
      "source": [
        "neg_image = plt.imread(\"/kaggle/input/sickle-cell-disease-dataset/Negative/Clear/1.jpg\")\n",
        "plt.imshow(neg_image)"
      ],
      "metadata": {
        "execution": {
          "iopub.status.idle": "2024-07-15T11:00:37.624897Z",
          "shell.execute_reply.started": "2024-07-15T11:00:37.085722Z",
          "shell.execute_reply": "2024-07-15T11:00:37.623981Z"
        },
        "trusted": true,
        "id": "REW-WYaMMQg0"
      },
      "execution_count": null,
      "outputs": []
    },
    {
      "cell_type": "code",
      "source": [
        "import os\n",
        "\n",
        "negative_imgs = len(os.listdir(\"/kaggle/input/sickle-cell-disease-dataset/Negative/Clear\"))\n",
        "positive_imgs = len(os.listdir(\"/kaggle/input/sickle-cell-disease-dataset/Positive/Labelled\"))\n",
        "\n",
        "print(\"total images = \", (negative_imgs + positive_imgs))"
      ],
      "metadata": {
        "execution": {
          "iopub.status.busy": "2024-07-15T11:00:37.626235Z",
          "iopub.execute_input": "2024-07-15T11:00:37.626577Z",
          "iopub.status.idle": "2024-07-15T11:00:37.689165Z",
          "shell.execute_reply.started": "2024-07-15T11:00:37.626548Z",
          "shell.execute_reply": "2024-07-15T11:00:37.688417Z"
        },
        "trusted": true,
        "id": "FXOuPgY1MQg0"
      },
      "execution_count": null,
      "outputs": []
    },
    {
      "cell_type": "code",
      "source": [
        "fig, ax = plt.subplots()\n",
        "\n",
        "fruits = ['positive images', 'negative images']\n",
        "counts = [positive_imgs, negative_imgs]\n",
        "bar_labels = ['positive images', 'negative images']\n",
        "bar_colors = ['tab:red', 'tab:blue']\n",
        "\n",
        "ax.bar(fruits, counts, label=bar_labels, color=bar_colors)\n",
        "\n",
        "ax.set_ylabel('Count')\n",
        "ax.set_title('Sickle Cell Data Distribution')\n",
        "ax.legend()\n"
      ],
      "metadata": {
        "execution": {
          "iopub.status.busy": "2024-07-15T11:00:37.690272Z",
          "iopub.execute_input": "2024-07-15T11:00:37.690605Z",
          "iopub.status.idle": "2024-07-15T11:00:37.942519Z",
          "shell.execute_reply.started": "2024-07-15T11:00:37.690579Z",
          "shell.execute_reply": "2024-07-15T11:00:37.941741Z"
        },
        "trusted": true,
        "id": "PuoYp9VxMQg1"
      },
      "execution_count": null,
      "outputs": []
    },
    {
      "cell_type": "code",
      "source": [
        "data_df = pd.DataFrame(columns = [\"Image dir\", \"Label\"])"
      ],
      "metadata": {
        "execution": {
          "iopub.status.busy": "2024-07-15T11:00:37.943533Z",
          "iopub.execute_input": "2024-07-15T11:00:37.943785Z",
          "iopub.status.idle": "2024-07-15T11:00:37.951417Z",
          "shell.execute_reply.started": "2024-07-15T11:00:37.943762Z",
          "shell.execute_reply": "2024-07-15T11:00:37.950531Z"
        },
        "trusted": true,
        "id": "3tp5tm_OMQg1"
      },
      "execution_count": null,
      "outputs": []
    },
    {
      "cell_type": "code",
      "source": [
        "positive_img_dir = \"/kaggle/input/sickle-cell-disease-dataset/Positive/Labelled\"\n",
        "negative_img_dir = \"/kaggle/input/sickle-cell-disease-dataset/Negative/Clear\""
      ],
      "metadata": {
        "execution": {
          "iopub.status.busy": "2024-07-15T11:00:37.952661Z",
          "iopub.execute_input": "2024-07-15T11:00:37.953282Z",
          "iopub.status.idle": "2024-07-15T11:00:37.96034Z",
          "shell.execute_reply.started": "2024-07-15T11:00:37.953246Z",
          "shell.execute_reply": "2024-07-15T11:00:37.959257Z"
        },
        "trusted": true,
        "id": "L9br8--JMQg1"
      },
      "execution_count": null,
      "outputs": []
    },
    {
      "cell_type": "code",
      "source": [
        "import os\n",
        "import re\n",
        "import cv2\n",
        "\n",
        "Images = []\n",
        "Labels = []\n",
        "\n",
        "#append in the  postive Images\n",
        "for file_dir, _, files in os.walk(positive_img_dir):\n",
        "    for file in files:\n",
        "        img_file = os.path.join(file_dir, file)\n",
        "        img = cv2.imread(img_file)\n",
        "        img = cv2.resize(img, (255, 255))\n",
        "        Images.append(img)\n",
        "        Labels.append(1)"
      ],
      "metadata": {
        "execution": {
          "iopub.status.busy": "2024-07-15T11:00:37.965915Z",
          "iopub.execute_input": "2024-07-15T11:00:37.966285Z",
          "iopub.status.idle": "2024-07-15T11:00:45.161785Z",
          "shell.execute_reply.started": "2024-07-15T11:00:37.966254Z",
          "shell.execute_reply": "2024-07-15T11:00:45.160722Z"
        },
        "trusted": true,
        "id": "sW-d7scuMQg1"
      },
      "execution_count": null,
      "outputs": []
    },
    {
      "cell_type": "code",
      "source": [
        "#append in the negative Images\n",
        "for file_dir, _, files in os.walk(negative_img_dir):\n",
        "    for file in files:\n",
        "        img_file = os.path.join(file_dir, file)\n",
        "        img = cv2.imread(img_file)\n",
        "        img = cv2.resize(img, (255, 255))\n",
        "        Images.append(img)\n",
        "        Labels.append(0)"
      ],
      "metadata": {
        "execution": {
          "iopub.status.busy": "2024-07-15T11:00:45.163106Z",
          "iopub.execute_input": "2024-07-15T11:00:45.163509Z",
          "iopub.status.idle": "2024-07-15T11:00:47.321976Z",
          "shell.execute_reply.started": "2024-07-15T11:00:45.163475Z",
          "shell.execute_reply": "2024-07-15T11:00:47.321134Z"
        },
        "trusted": true,
        "id": "c6LGoZbRMQg1"
      },
      "execution_count": null,
      "outputs": []
    },
    {
      "cell_type": "code",
      "source": [
        "Images = np.array(Images)\n",
        "\n",
        "Images.shape"
      ],
      "metadata": {
        "execution": {
          "iopub.status.busy": "2024-07-15T11:00:47.323215Z",
          "iopub.execute_input": "2024-07-15T11:00:47.323658Z",
          "iopub.status.idle": "2024-07-15T11:00:47.364842Z",
          "shell.execute_reply.started": "2024-07-15T11:00:47.323622Z",
          "shell.execute_reply": "2024-07-15T11:00:47.363817Z"
        },
        "trusted": true,
        "id": "tkhlL0d8MQg1"
      },
      "execution_count": null,
      "outputs": []
    },
    {
      "cell_type": "code",
      "source": [
        "sample = Images[0]\n",
        "\n",
        "plt.imshow(sample)\n",
        "plt.title(\"Postive\")"
      ],
      "metadata": {
        "execution": {
          "iopub.status.busy": "2024-07-15T11:00:47.367093Z",
          "iopub.execute_input": "2024-07-15T11:00:47.367525Z",
          "iopub.status.idle": "2024-07-15T11:00:47.764348Z",
          "shell.execute_reply.started": "2024-07-15T11:00:47.367487Z",
          "shell.execute_reply": "2024-07-15T11:00:47.763263Z"
        },
        "trusted": true,
        "id": "gaU9WN2zMQg2"
      },
      "execution_count": null,
      "outputs": []
    },
    {
      "cell_type": "code",
      "source": [
        "sample = Images[-1]\n",
        "plt.imshow(sample)\n",
        "plt.title(\"Negative\")"
      ],
      "metadata": {
        "execution": {
          "iopub.status.busy": "2024-07-15T11:00:47.765668Z",
          "iopub.execute_input": "2024-07-15T11:00:47.765953Z",
          "iopub.status.idle": "2024-07-15T11:00:48.103994Z",
          "shell.execute_reply.started": "2024-07-15T11:00:47.765927Z",
          "shell.execute_reply": "2024-07-15T11:00:48.103105Z"
        },
        "trusted": true,
        "id": "7cVlE0v7MQg2"
      },
      "execution_count": null,
      "outputs": []
    },
    {
      "cell_type": "markdown",
      "source": [
        "# Train the models"
      ],
      "metadata": {
        "id": "Dj-xmnayMQg2"
      }
    },
    {
      "cell_type": "code",
      "source": [
        "X = Images / 255 #scale the data\n",
        "y = Labels"
      ],
      "metadata": {
        "execution": {
          "iopub.status.busy": "2024-07-15T11:00:48.105103Z",
          "iopub.execute_input": "2024-07-15T11:00:48.105392Z",
          "iopub.status.idle": "2024-07-15T11:00:48.386912Z",
          "shell.execute_reply.started": "2024-07-15T11:00:48.10535Z",
          "shell.execute_reply": "2024-07-15T11:00:48.385884Z"
        },
        "trusted": true,
        "id": "hxgG4sHuMQg2"
      },
      "execution_count": null,
      "outputs": []
    },
    {
      "cell_type": "code",
      "source": [
        "from sklearn.model_selection import train_test_split"
      ],
      "metadata": {
        "execution": {
          "iopub.status.busy": "2024-07-15T11:00:48.388175Z",
          "iopub.execute_input": "2024-07-15T11:00:48.388464Z",
          "iopub.status.idle": "2024-07-15T11:00:49.586984Z",
          "shell.execute_reply.started": "2024-07-15T11:00:48.388439Z",
          "shell.execute_reply": "2024-07-15T11:00:49.585872Z"
        },
        "trusted": true,
        "id": "5DB6GXuAMQg2"
      },
      "execution_count": null,
      "outputs": []
    },
    {
      "cell_type": "code",
      "source": [
        "train_X, test_X, train_y, test_y = train_test_split(X, np.array(y), stratify = np.array(y),\n",
        "                                                    random_state = 42,\n",
        "                                                    shuffle = True, test_size = 0.2)\n",
        "\n",
        "train_X.shape, test_X.shape, train_y.shape, test_y.shape"
      ],
      "metadata": {
        "execution": {
          "iopub.status.busy": "2024-07-15T11:00:49.588241Z",
          "iopub.execute_input": "2024-07-15T11:00:49.588714Z",
          "iopub.status.idle": "2024-07-15T11:00:49.872255Z",
          "shell.execute_reply.started": "2024-07-15T11:00:49.588686Z",
          "shell.execute_reply": "2024-07-15T11:00:49.871198Z"
        },
        "trusted": true,
        "id": "HgLpGimxMQg2"
      },
      "execution_count": null,
      "outputs": []
    },
    {
      "cell_type": "code",
      "source": [
        "np.unique(train_y, return_counts = True) , np.unique(test_y, return_counts = True)"
      ],
      "metadata": {
        "execution": {
          "iopub.status.busy": "2024-07-15T11:00:49.873685Z",
          "iopub.execute_input": "2024-07-15T11:00:49.874419Z",
          "iopub.status.idle": "2024-07-15T11:00:49.882174Z",
          "shell.execute_reply.started": "2024-07-15T11:00:49.874363Z",
          "shell.execute_reply": "2024-07-15T11:00:49.881403Z"
        },
        "trusted": true,
        "id": "xIPsMdCfMQg3"
      },
      "execution_count": null,
      "outputs": []
    },
    {
      "cell_type": "markdown",
      "source": [
        "# Logistic Regression\n",
        "\n",
        "Wen dealing with the normal ML models, we have to ensure the data is 2 dimensional, so the first step is to reshape the data to a 2d format"
      ],
      "metadata": {
        "id": "rD__CgjbMQg3"
      }
    },
    {
      "cell_type": "code",
      "source": [
        "from sklearn.linear_model import LogisticRegression\n",
        "\n",
        "train_X_flattened = train_X.reshape(len(train_X), -1)\n",
        "test_X_flattened = test_X.reshape(len(test_X), -1)"
      ],
      "metadata": {
        "execution": {
          "iopub.status.busy": "2024-07-15T11:00:49.883224Z",
          "iopub.execute_input": "2024-07-15T11:00:49.883752Z",
          "iopub.status.idle": "2024-07-15T11:00:49.970217Z",
          "shell.execute_reply.started": "2024-07-15T11:00:49.883721Z",
          "shell.execute_reply": "2024-07-15T11:00:49.96935Z"
        },
        "trusted": true,
        "id": "8aG8Qak4MQg3"
      },
      "execution_count": null,
      "outputs": []
    },
    {
      "cell_type": "code",
      "source": [
        "train_X_flattened.shape"
      ],
      "metadata": {
        "execution": {
          "iopub.status.busy": "2024-07-15T11:00:49.97159Z",
          "iopub.execute_input": "2024-07-15T11:00:49.972335Z",
          "iopub.status.idle": "2024-07-15T11:00:49.97906Z",
          "shell.execute_reply.started": "2024-07-15T11:00:49.972303Z",
          "shell.execute_reply": "2024-07-15T11:00:49.977744Z"
        },
        "trusted": true,
        "id": "Bask7ok2MQg3"
      },
      "execution_count": null,
      "outputs": []
    },
    {
      "cell_type": "code",
      "source": [
        "train_y.shape"
      ],
      "metadata": {
        "execution": {
          "iopub.status.busy": "2024-07-15T11:00:49.980255Z",
          "iopub.execute_input": "2024-07-15T11:00:49.980588Z",
          "iopub.status.idle": "2024-07-15T11:00:49.986399Z",
          "shell.execute_reply.started": "2024-07-15T11:00:49.980558Z",
          "shell.execute_reply": "2024-07-15T11:00:49.985433Z"
        },
        "trusted": true,
        "id": "77WhQAVAMQg3"
      },
      "execution_count": null,
      "outputs": []
    },
    {
      "cell_type": "code",
      "source": [
        "lr = LogisticRegression(random_state = 42).fit(train_X_flattened, train_y)"
      ],
      "metadata": {
        "execution": {
          "iopub.status.busy": "2024-07-15T11:00:49.987607Z",
          "iopub.execute_input": "2024-07-15T11:00:49.988014Z",
          "iopub.status.idle": "2024-07-15T11:01:08.566292Z",
          "shell.execute_reply.started": "2024-07-15T11:00:49.987978Z",
          "shell.execute_reply": "2024-07-15T11:01:08.565088Z"
        },
        "trusted": true,
        "id": "RWluicoXMQg3"
      },
      "execution_count": null,
      "outputs": []
    },
    {
      "cell_type": "code",
      "source": [
        "from sklearn.metrics import accuracy_score, precision_score, recall_score, f1_score, confusion_matrix, classification_report\n",
        "import seaborn as sns"
      ],
      "metadata": {
        "execution": {
          "iopub.status.busy": "2024-07-15T11:01:08.568083Z",
          "iopub.execute_input": "2024-07-15T11:01:08.570414Z",
          "iopub.status.idle": "2024-07-15T11:01:08.883965Z",
          "shell.execute_reply.started": "2024-07-15T11:01:08.570354Z",
          "shell.execute_reply": "2024-07-15T11:01:08.88292Z"
        },
        "trusted": true,
        "id": "t1Oe5VPYMQg3"
      },
      "execution_count": null,
      "outputs": []
    },
    {
      "cell_type": "code",
      "source": [
        "def get_score(y_pred, y_true):\n",
        "    print(\"Accuracy score - \", accuracy_score(y_pred, y_true))\n",
        "    print(\"Precision score - \", precision_score(y_pred, y_true))\n",
        "    print(\"Recall score - \", recall_score(y_pred, y_true))\n",
        "    print(\"f1 score - \", f1_score(y_pred, y_true))\n",
        "    print(\"----------  Classification Report   -------\")\n",
        "    print(classification_report(y_pred, y_true))\n",
        "\n",
        "    matrix = confusion_matrix(y_pred, y_true)\n",
        "    sns.heatmap(matrix, cmap='Blues', annot=True, fmt='d')"
      ],
      "metadata": {
        "execution": {
          "iopub.status.busy": "2024-07-15T11:01:08.885149Z",
          "iopub.execute_input": "2024-07-15T11:01:08.885532Z",
          "iopub.status.idle": "2024-07-15T11:01:08.891857Z",
          "shell.execute_reply.started": "2024-07-15T11:01:08.885507Z",
          "shell.execute_reply": "2024-07-15T11:01:08.890887Z"
        },
        "trusted": true,
        "id": "lJ1Y31I4MQg3"
      },
      "execution_count": null,
      "outputs": []
    },
    {
      "cell_type": "code",
      "source": [
        "pred = lr.predict(train_X_flattened)"
      ],
      "metadata": {
        "execution": {
          "iopub.status.busy": "2024-07-15T11:01:08.893002Z",
          "iopub.execute_input": "2024-07-15T11:01:08.893301Z",
          "iopub.status.idle": "2024-07-15T11:01:08.991807Z",
          "shell.execute_reply.started": "2024-07-15T11:01:08.893274Z",
          "shell.execute_reply": "2024-07-15T11:01:08.990574Z"
        },
        "trusted": true,
        "id": "wneADGLTMQg3"
      },
      "execution_count": null,
      "outputs": []
    },
    {
      "cell_type": "code",
      "source": [
        "get_score(pred, train_y)"
      ],
      "metadata": {
        "execution": {
          "iopub.status.busy": "2024-07-15T11:01:08.99325Z",
          "iopub.execute_input": "2024-07-15T11:01:08.99752Z",
          "iopub.status.idle": "2024-07-15T11:01:09.353423Z",
          "shell.execute_reply.started": "2024-07-15T11:01:08.997463Z",
          "shell.execute_reply": "2024-07-15T11:01:09.352534Z"
        },
        "trusted": true,
        "id": "jAaybO0GMQg3"
      },
      "execution_count": null,
      "outputs": []
    },
    {
      "cell_type": "code",
      "source": [
        "pred = lr.predict(test_X_flattened)"
      ],
      "metadata": {
        "execution": {
          "iopub.status.busy": "2024-07-15T11:01:09.354732Z",
          "iopub.execute_input": "2024-07-15T11:01:09.355097Z",
          "iopub.status.idle": "2024-07-15T11:01:09.382976Z",
          "shell.execute_reply.started": "2024-07-15T11:01:09.355071Z",
          "shell.execute_reply": "2024-07-15T11:01:09.381624Z"
        },
        "trusted": true,
        "id": "FROUzx9XMQg3"
      },
      "execution_count": null,
      "outputs": []
    },
    {
      "cell_type": "code",
      "source": [
        "get_score(pred, test_y)"
      ],
      "metadata": {
        "execution": {
          "iopub.status.busy": "2024-07-15T11:01:09.397449Z",
          "iopub.execute_input": "2024-07-15T11:01:09.398016Z",
          "iopub.status.idle": "2024-07-15T11:01:09.7532Z",
          "shell.execute_reply.started": "2024-07-15T11:01:09.397972Z",
          "shell.execute_reply": "2024-07-15T11:01:09.752246Z"
        },
        "trusted": true,
        "id": "5SxSognAMQg3"
      },
      "execution_count": null,
      "outputs": []
    },
    {
      "cell_type": "code",
      "source": [],
      "metadata": {
        "id": "4NvQJABcMQg3"
      },
      "execution_count": null,
      "outputs": []
    },
    {
      "cell_type": "markdown",
      "source": [
        "# Ridge Classifier"
      ],
      "metadata": {
        "id": "fgn7jjsmMQg3"
      }
    },
    {
      "cell_type": "code",
      "source": [
        "from sklearn.linear_model import RidgeClassifier\n",
        "\n",
        "ridge = RidgeClassifier(random_state = 42).fit(train_X_flattened, train_y)"
      ],
      "metadata": {
        "execution": {
          "iopub.status.busy": "2024-07-15T11:01:09.754299Z",
          "iopub.execute_input": "2024-07-15T11:01:09.754658Z",
          "iopub.status.idle": "2024-07-15T11:01:12.411567Z",
          "shell.execute_reply.started": "2024-07-15T11:01:09.754631Z",
          "shell.execute_reply": "2024-07-15T11:01:12.410001Z"
        },
        "trusted": true,
        "id": "H35clR5FMQg5"
      },
      "execution_count": null,
      "outputs": []
    },
    {
      "cell_type": "code",
      "source": [
        "get_score(ridge.predict(train_X_flattened), train_y)"
      ],
      "metadata": {
        "execution": {
          "iopub.status.busy": "2024-07-15T11:01:12.413674Z",
          "iopub.execute_input": "2024-07-15T11:01:12.414459Z",
          "iopub.status.idle": "2024-07-15T11:01:12.851071Z",
          "shell.execute_reply.started": "2024-07-15T11:01:12.414412Z",
          "shell.execute_reply": "2024-07-15T11:01:12.850317Z"
        },
        "trusted": true,
        "id": "NtJ1WzMIMQg5"
      },
      "execution_count": null,
      "outputs": []
    },
    {
      "cell_type": "code",
      "source": [
        "get_score(ridge.predict(test_X_flattened), test_y)"
      ],
      "metadata": {
        "execution": {
          "iopub.status.busy": "2024-07-15T11:01:12.852561Z",
          "iopub.execute_input": "2024-07-15T11:01:12.852923Z",
          "iopub.status.idle": "2024-07-15T11:01:13.167193Z",
          "shell.execute_reply.started": "2024-07-15T11:01:12.852889Z",
          "shell.execute_reply": "2024-07-15T11:01:13.166306Z"
        },
        "trusted": true,
        "id": "0nt6IwPlMQg5"
      },
      "execution_count": null,
      "outputs": []
    },
    {
      "cell_type": "markdown",
      "source": [
        "# SVM (Kernel Trick)"
      ],
      "metadata": {
        "id": "A21zeBx6MQg6"
      }
    },
    {
      "cell_type": "code",
      "source": [
        "from sklearn.svm import SVC\n",
        "\n",
        "svc = SVC(random_state = 42).fit(train_X_flattened, train_y)"
      ],
      "metadata": {
        "execution": {
          "iopub.status.busy": "2024-07-15T11:01:13.168466Z",
          "iopub.execute_input": "2024-07-15T11:01:13.168779Z",
          "iopub.status.idle": "2024-07-15T11:01:29.96456Z",
          "shell.execute_reply.started": "2024-07-15T11:01:13.168753Z",
          "shell.execute_reply": "2024-07-15T11:01:29.963681Z"
        },
        "trusted": true,
        "id": "FikcFgHvMQg6"
      },
      "execution_count": null,
      "outputs": []
    },
    {
      "cell_type": "code",
      "source": [
        "get_score(svc.predict(train_X_flattened), train_y)"
      ],
      "metadata": {
        "execution": {
          "iopub.status.busy": "2024-07-15T11:01:29.965948Z",
          "iopub.execute_input": "2024-07-15T11:01:29.966986Z",
          "iopub.status.idle": "2024-07-15T11:02:30.588522Z",
          "shell.execute_reply.started": "2024-07-15T11:01:29.96695Z",
          "shell.execute_reply": "2024-07-15T11:02:30.587492Z"
        },
        "trusted": true,
        "id": "PgoENzF0MQg9"
      },
      "execution_count": null,
      "outputs": []
    },
    {
      "cell_type": "code",
      "source": [
        "get_score(svc.predict(test_X_flattened), test_y)"
      ],
      "metadata": {
        "execution": {
          "iopub.status.busy": "2024-07-15T11:02:30.589875Z",
          "iopub.execute_input": "2024-07-15T11:02:30.590659Z",
          "iopub.status.idle": "2024-07-15T11:02:45.59522Z",
          "shell.execute_reply.started": "2024-07-15T11:02:30.59062Z",
          "shell.execute_reply": "2024-07-15T11:02:45.594386Z"
        },
        "trusted": true,
        "id": "uTc-7L_YMQg9"
      },
      "execution_count": null,
      "outputs": []
    },
    {
      "cell_type": "markdown",
      "source": [
        "# Random Forest"
      ],
      "metadata": {
        "id": "INqGPeWmMQg9"
      }
    },
    {
      "cell_type": "code",
      "source": [
        "from sklearn.ensemble import RandomForestClassifier\n",
        "\n",
        "forest = RandomForestClassifier(random_state = 42).fit(train_X_flattened, train_y)"
      ],
      "metadata": {
        "execution": {
          "iopub.status.busy": "2024-07-15T11:02:45.596292Z",
          "iopub.execute_input": "2024-07-15T11:02:45.596596Z",
          "iopub.status.idle": "2024-07-15T11:02:53.146574Z",
          "shell.execute_reply.started": "2024-07-15T11:02:45.59657Z",
          "shell.execute_reply": "2024-07-15T11:02:53.145737Z"
        },
        "trusted": true,
        "id": "ZLUI0LtMMQg9"
      },
      "execution_count": null,
      "outputs": []
    },
    {
      "cell_type": "code",
      "source": [
        "get_score(forest.predict(train_X_flattened), train_y)"
      ],
      "metadata": {
        "execution": {
          "iopub.status.busy": "2024-07-15T11:02:53.147742Z",
          "iopub.execute_input": "2024-07-15T11:02:53.148037Z",
          "iopub.status.idle": "2024-07-15T11:02:53.666008Z",
          "shell.execute_reply.started": "2024-07-15T11:02:53.148004Z",
          "shell.execute_reply": "2024-07-15T11:02:53.665059Z"
        },
        "trusted": true,
        "id": "4CC8qyqbMQg9"
      },
      "execution_count": null,
      "outputs": []
    },
    {
      "cell_type": "code",
      "source": [
        "get_score(forest.predict(test_X_flattened), test_y)"
      ],
      "metadata": {
        "execution": {
          "iopub.status.busy": "2024-07-15T11:02:53.667342Z",
          "iopub.execute_input": "2024-07-15T11:02:53.668063Z",
          "iopub.status.idle": "2024-07-15T11:02:53.965533Z",
          "shell.execute_reply.started": "2024-07-15T11:02:53.668026Z",
          "shell.execute_reply": "2024-07-15T11:02:53.964591Z"
        },
        "trusted": true,
        "id": "-GsWT-74MQg9"
      },
      "execution_count": null,
      "outputs": []
    },
    {
      "cell_type": "markdown",
      "source": [
        "# Extra Trees"
      ],
      "metadata": {
        "id": "zU4H2hw0MQg9"
      }
    },
    {
      "cell_type": "code",
      "source": [
        "from sklearn.ensemble import ExtraTreesClassifier\n",
        "\n",
        "xtree = ExtraTreesClassifier(random_state = 42).fit(train_X_flattened, train_y)"
      ],
      "metadata": {
        "execution": {
          "iopub.status.busy": "2024-07-15T11:02:53.966919Z",
          "iopub.execute_input": "2024-07-15T11:02:53.96727Z",
          "iopub.status.idle": "2024-07-15T11:02:57.250747Z",
          "shell.execute_reply.started": "2024-07-15T11:02:53.967242Z",
          "shell.execute_reply": "2024-07-15T11:02:57.249657Z"
        },
        "trusted": true,
        "id": "LCUW7di4MQg9"
      },
      "execution_count": null,
      "outputs": []
    },
    {
      "cell_type": "code",
      "source": [
        "get_score(xtree.predict(train_X_flattened), train_y)"
      ],
      "metadata": {
        "execution": {
          "iopub.status.busy": "2024-07-15T11:02:57.251756Z",
          "iopub.execute_input": "2024-07-15T11:02:57.252028Z",
          "iopub.status.idle": "2024-07-15T11:02:57.663261Z",
          "shell.execute_reply.started": "2024-07-15T11:02:57.252004Z",
          "shell.execute_reply": "2024-07-15T11:02:57.662361Z"
        },
        "trusted": true,
        "id": "egdQ1dkBMQg9"
      },
      "execution_count": null,
      "outputs": []
    },
    {
      "cell_type": "code",
      "source": [
        "get_score(xtree.predict(test_X_flattened), test_y)"
      ],
      "metadata": {
        "execution": {
          "iopub.status.busy": "2024-07-15T11:02:57.664564Z",
          "iopub.execute_input": "2024-07-15T11:02:57.664905Z",
          "iopub.status.idle": "2024-07-15T11:02:58.018315Z",
          "shell.execute_reply.started": "2024-07-15T11:02:57.664863Z",
          "shell.execute_reply": "2024-07-15T11:02:58.017438Z"
        },
        "trusted": true,
        "id": "TQuZ2JYJMQg9"
      },
      "execution_count": null,
      "outputs": []
    },
    {
      "cell_type": "markdown",
      "source": [
        "# CNN Model"
      ],
      "metadata": {
        "id": "0-cuwKj6MQg9"
      }
    },
    {
      "cell_type": "code",
      "source": [
        "from tensorflow import keras"
      ],
      "metadata": {
        "execution": {
          "iopub.status.busy": "2024-07-15T11:02:58.019633Z",
          "iopub.execute_input": "2024-07-15T11:02:58.019973Z",
          "iopub.status.idle": "2024-07-15T11:03:09.66278Z",
          "shell.execute_reply.started": "2024-07-15T11:02:58.019944Z",
          "shell.execute_reply": "2024-07-15T11:03:09.661746Z"
        },
        "trusted": true,
        "id": "QdC_aJ8bMQg-"
      },
      "execution_count": null,
      "outputs": []
    },
    {
      "cell_type": "code",
      "source": [
        "# Importing all necessary libraries\n",
        "from keras.models import Sequential\n",
        "from keras.layers import Conv2D, MaxPooling2D\n",
        "from keras.layers import Activation, Dropout, Flatten, Dense\n",
        "from tensorflow.keras.utils import plot_model\n",
        "\n",
        "img_width, img_height = 255, 255\n",
        "input_shape = (img_width, img_height, 3)"
      ],
      "metadata": {
        "execution": {
          "iopub.status.busy": "2024-07-15T11:03:09.664092Z",
          "iopub.execute_input": "2024-07-15T11:03:09.664797Z",
          "iopub.status.idle": "2024-07-15T11:03:09.673144Z",
          "shell.execute_reply.started": "2024-07-15T11:03:09.664762Z",
          "shell.execute_reply": "2024-07-15T11:03:09.672266Z"
        },
        "trusted": true,
        "id": "hbREgBUKMQg-"
      },
      "execution_count": null,
      "outputs": []
    },
    {
      "cell_type": "code",
      "source": [
        "model = Sequential()\n",
        "model.add(Conv2D(32, (2, 2), input_shape=input_shape))\n",
        "model.add(Activation('relu'))\n",
        "model.add(MaxPooling2D(pool_size=(2, 2)))\n",
        "\n",
        "model.add(Conv2D(32, (2, 2)))\n",
        "model.add(Activation('relu'))\n",
        "model.add(MaxPooling2D(pool_size=(2, 2)))\n",
        "\n",
        "model.add(Conv2D(64, (2, 2)))\n",
        "model.add(Activation('relu'))\n",
        "model.add(MaxPooling2D(pool_size=(2, 2)))\n",
        "\n",
        "model.add(Flatten())\n",
        "model.add(Dense(64))\n",
        "model.add(Activation('relu'))\n",
        "model.add(Dropout(0.5))\n",
        "model.add(Dense(1))\n",
        "model.add(Activation('sigmoid'))\n"
      ],
      "metadata": {
        "execution": {
          "iopub.status.busy": "2024-07-15T11:03:09.674428Z",
          "iopub.execute_input": "2024-07-15T11:03:09.674753Z",
          "iopub.status.idle": "2024-07-15T11:03:10.477938Z",
          "shell.execute_reply.started": "2024-07-15T11:03:09.674719Z",
          "shell.execute_reply": "2024-07-15T11:03:10.477179Z"
        },
        "trusted": true,
        "id": "p44I-by_MQg-"
      },
      "execution_count": null,
      "outputs": []
    },
    {
      "cell_type": "code",
      "source": [
        "model.summary()"
      ],
      "metadata": {
        "execution": {
          "iopub.status.busy": "2024-07-15T11:03:10.479112Z",
          "iopub.execute_input": "2024-07-15T11:03:10.479742Z",
          "iopub.status.idle": "2024-07-15T11:03:10.509736Z",
          "shell.execute_reply.started": "2024-07-15T11:03:10.479707Z",
          "shell.execute_reply": "2024-07-15T11:03:10.508837Z"
        },
        "trusted": true,
        "id": "Jbf8ClZMMQg-"
      },
      "execution_count": null,
      "outputs": []
    },
    {
      "cell_type": "code",
      "source": [
        "plot_model(model, to_file='model_plot.png', show_shapes=True, show_layer_names=True)"
      ],
      "metadata": {
        "execution": {
          "iopub.status.busy": "2024-07-15T11:03:10.511185Z",
          "iopub.execute_input": "2024-07-15T11:03:10.511527Z",
          "iopub.status.idle": "2024-07-15T11:03:10.974226Z"
        },
        "trusted": true,
        "id": "6p3kEtX7MQg-"
      },
      "execution_count": null,
      "outputs": []
    },
    {
      "cell_type": "code",
      "source": [
        "model.compile(loss='binary_crossentropy',\n",
        "              optimizer='adam',\n",
        "              metrics=['accuracy'])"
      ],
      "metadata": {
        "execution": {
          "iopub.status.busy": "2024-07-15T11:03:10.975551Z",
          "iopub.execute_input": "2024-07-15T11:03:10.975886Z",
          "iopub.status.idle": "2024-07-15T11:03:10.993888Z",
          "shell.execute_reply.started": "2024-07-15T11:03:10.975855Z",
          "shell.execute_reply": "2024-07-15T11:03:10.99272Z"
        },
        "trusted": true,
        "id": "9xT-tfykMQg-"
      },
      "execution_count": null,
      "outputs": []
    },
    {
      "cell_type": "code",
      "source": [
        "# Add a callback to avoid overfitting\n",
        "\n",
        "model_checkpoint = keras.callbacks.ModelCheckpoint(\n",
        "    filepath = \"best_model.keras\",\n",
        "    monitor='val_accuracy',\n",
        "    save_best_only=True\n",
        ")"
      ],
      "metadata": {
        "execution": {
          "iopub.status.busy": "2024-07-15T11:03:10.995151Z",
          "iopub.execute_input": "2024-07-15T11:03:10.995503Z",
          "iopub.status.idle": "2024-07-15T11:03:11.000132Z",
          "shell.execute_reply.started": "2024-07-15T11:03:10.995471Z",
          "shell.execute_reply": "2024-07-15T11:03:10.999207Z"
        },
        "trusted": true,
        "id": "AcPvmk4tMQg-"
      },
      "execution_count": null,
      "outputs": []
    },
    {
      "cell_type": "code",
      "source": [
        "history = model.fit(train_X, train_y, validation_data = (test_X, test_y),\n",
        "          epochs = 20, callbacks = [model_checkpoint])"
      ],
      "metadata": {
        "execution": {
          "iopub.status.busy": "2024-07-15T11:03:11.001544Z",
          "iopub.execute_input": "2024-07-15T11:03:11.002062Z",
          "iopub.status.idle": "2024-07-15T11:03:34.828064Z",
          "shell.execute_reply.started": "2024-07-15T11:03:11.002037Z",
          "shell.execute_reply": "2024-07-15T11:03:34.827221Z"
        },
        "trusted": true,
        "id": "WccjEBUeMQg-"
      },
      "execution_count": null,
      "outputs": []
    },
    {
      "cell_type": "code",
      "source": [
        "pd.DataFrame(history.history).plot(figsize=(8,5))\n",
        "plt.show()"
      ],
      "metadata": {
        "execution": {
          "iopub.status.busy": "2024-07-15T11:03:34.839721Z",
          "iopub.execute_input": "2024-07-15T11:03:34.839992Z",
          "iopub.status.idle": "2024-07-15T11:03:35.164833Z",
          "shell.execute_reply.started": "2024-07-15T11:03:34.839969Z",
          "shell.execute_reply": "2024-07-15T11:03:35.163899Z"
        },
        "trusted": true,
        "id": "fyH5Izz3MQg-"
      },
      "execution_count": null,
      "outputs": []
    },
    {
      "cell_type": "code",
      "source": [
        "best_model = keras.models.load_model(\"/kaggle/working/best_model.keras\")"
      ],
      "metadata": {
        "execution": {
          "iopub.status.busy": "2024-07-15T11:03:35.166222Z",
          "iopub.execute_input": "2024-07-15T11:03:35.166601Z",
          "iopub.status.idle": "2024-07-15T11:03:35.783859Z",
          "shell.execute_reply.started": "2024-07-15T11:03:35.166568Z",
          "shell.execute_reply": "2024-07-15T11:03:35.782967Z"
        },
        "trusted": true,
        "id": "TID4lMrSMQg-"
      },
      "execution_count": null,
      "outputs": []
    },
    {
      "cell_type": "markdown",
      "source": [
        "# Test the model"
      ],
      "metadata": {
        "id": "N_EPgpptMQg-"
      }
    },
    {
      "cell_type": "code",
      "source": [
        "predictions = best_model.predict(test_X)"
      ],
      "metadata": {
        "execution": {
          "iopub.status.busy": "2024-07-15T11:03:35.785185Z",
          "iopub.execute_input": "2024-07-15T11:03:35.785582Z",
          "iopub.status.idle": "2024-07-15T11:03:36.787862Z",
          "shell.execute_reply.started": "2024-07-15T11:03:35.785551Z",
          "shell.execute_reply": "2024-07-15T11:03:36.78687Z"
        },
        "trusted": true,
        "id": "niL0IZAEMQg-"
      },
      "execution_count": null,
      "outputs": []
    },
    {
      "cell_type": "code",
      "source": [
        "predictions = np.round(predictions)"
      ],
      "metadata": {
        "execution": {
          "iopub.status.busy": "2024-07-15T11:03:36.789548Z",
          "iopub.execute_input": "2024-07-15T11:03:36.789936Z",
          "iopub.status.idle": "2024-07-15T11:03:36.798304Z",
          "shell.execute_reply.started": "2024-07-15T11:03:36.789902Z",
          "shell.execute_reply": "2024-07-15T11:03:36.797496Z"
        },
        "trusted": true,
        "id": "BpsStj28MQg-"
      },
      "execution_count": null,
      "outputs": []
    },
    {
      "cell_type": "code",
      "source": [],
      "metadata": {
        "trusted": true,
        "id": "EdXtf9dJMQg-"
      },
      "execution_count": null,
      "outputs": []
    },
    {
      "cell_type": "code",
      "source": [
        "y_pred = model.predict(train_X)\n",
        "y_pred"
      ],
      "metadata": {
        "_kg_hide-output": true,
        "scrolled": true,
        "execution": {
          "iopub.status.busy": "2024-07-15T11:03:36.799427Z",
          "iopub.execute_input": "2024-07-15T11:03:36.799749Z",
          "iopub.status.idle": "2024-07-15T11:03:38.551583Z",
          "shell.execute_reply.started": "2024-07-15T11:03:36.799717Z",
          "shell.execute_reply": "2024-07-15T11:03:38.550719Z"
        },
        "trusted": true,
        "id": "r6FrG2ufMQg-"
      },
      "execution_count": null,
      "outputs": []
    },
    {
      "cell_type": "code",
      "source": [
        "y_pred = np.round(y_pred)\n",
        "get_score(y_pred, train_y)"
      ],
      "metadata": {
        "execution": {
          "iopub.status.busy": "2024-07-15T11:03:38.552823Z",
          "iopub.execute_input": "2024-07-15T11:03:38.553222Z",
          "iopub.status.idle": "2024-07-15T11:03:38.802618Z",
          "shell.execute_reply.started": "2024-07-15T11:03:38.553184Z",
          "shell.execute_reply": "2024-07-15T11:03:38.80153Z"
        },
        "trusted": true,
        "id": "4WNBIGcEMQg_"
      },
      "execution_count": null,
      "outputs": []
    },
    {
      "cell_type": "code",
      "source": [],
      "metadata": {
        "id": "0cNoVInfMQg_"
      },
      "execution_count": null,
      "outputs": []
    },
    {
      "cell_type": "code",
      "source": [
        "get_score(predictions, test_y)"
      ],
      "metadata": {
        "execution": {
          "iopub.status.busy": "2024-07-15T11:03:38.803712Z",
          "iopub.execute_input": "2024-07-15T11:03:38.804002Z",
          "iopub.status.idle": "2024-07-15T11:03:39.062167Z",
          "shell.execute_reply.started": "2024-07-15T11:03:38.803976Z",
          "shell.execute_reply": "2024-07-15T11:03:39.06128Z"
        },
        "trusted": true,
        "id": "zDDT9xZwMQg_"
      },
      "execution_count": null,
      "outputs": []
    },
    {
      "cell_type": "markdown",
      "source": [
        "# Model with Torch"
      ],
      "metadata": {
        "id": "F06-pialMQg_"
      }
    },
    {
      "cell_type": "code",
      "source": [
        "import torch\n",
        "from torch import nn\n",
        "from torch.utils.data import Dataset, DataLoader, TensorDataset\n",
        "from torchvision import transforms\n",
        "from PIL import Image\n",
        "import random\n",
        "import torchinfo\n",
        "\n",
        "device = \"cuda\" if torch.cuda.is_available() else \"cpu\"\n",
        "device"
      ],
      "metadata": {
        "execution": {
          "iopub.status.busy": "2024-07-15T11:03:39.063607Z",
          "iopub.execute_input": "2024-07-15T11:03:39.064013Z",
          "iopub.status.idle": "2024-07-15T11:03:44.03439Z",
          "shell.execute_reply.started": "2024-07-15T11:03:39.063975Z",
          "shell.execute_reply": "2024-07-15T11:03:44.033304Z"
        },
        "trusted": true,
        "id": "fv_hYAsuMQg_"
      },
      "execution_count": null,
      "outputs": []
    },
    {
      "cell_type": "code",
      "source": [
        "train_X_tensor, train_y_tensor,test_X_tensor,  test_y_tensor = torch.from_numpy(train_X * 255), torch.from_numpy(train_y), torch.from_numpy(test_X * 255), torch.from_numpy(test_y)\n",
        "\n",
        "train_X_tensor"
      ],
      "metadata": {
        "_kg_hide-input": true,
        "scrolled": true,
        "execution": {
          "iopub.status.busy": "2024-07-15T11:03:44.035629Z",
          "iopub.execute_input": "2024-07-15T11:03:44.036135Z",
          "iopub.status.idle": "2024-07-15T11:03:44.404661Z",
          "shell.execute_reply.started": "2024-07-15T11:03:44.036108Z",
          "shell.execute_reply": "2024-07-15T11:03:44.403653Z"
        },
        "trusted": true,
        "id": "XCT2dN5sMQg_"
      },
      "execution_count": null,
      "outputs": []
    },
    {
      "cell_type": "code",
      "source": [
        "class SickleCellDataset(Dataset):\n",
        "    def __init__(self,tensors, transform = None):\n",
        "        self.tensors = tensors\n",
        "        self.transform = transform\n",
        "        self.classes = [\"Negative\", \"Positive\"]\n",
        "        self.class_to_idx = {\"Negative\" : 0, \"Positive\" : 1}\n",
        "\n",
        "    def load_image(self, index):\n",
        "        img_tensor = self.tensors[0][index]\n",
        "        return Image.fromarray(img_tensor.numpy().astype(np.uint8))\n",
        "\n",
        "    def __getitem__(self, index):\n",
        "        x = self.load_image(index)\n",
        "\n",
        "        if self.transform:\n",
        "            x = self.transform(x)\n",
        "\n",
        "        y = self.tensors[1][index]\n",
        "\n",
        "        return x, y\n",
        "\n",
        "    def __len__(self):\n",
        "        return self.tensors[0].size(0)"
      ],
      "metadata": {
        "execution": {
          "iopub.status.busy": "2024-07-15T11:03:44.406051Z",
          "iopub.execute_input": "2024-07-15T11:03:44.406503Z",
          "iopub.status.idle": "2024-07-15T11:03:44.414315Z",
          "shell.execute_reply.started": "2024-07-15T11:03:44.406469Z",
          "shell.execute_reply": "2024-07-15T11:03:44.413323Z"
        },
        "trusted": true,
        "id": "t0aOHcwXMQg_"
      },
      "execution_count": null,
      "outputs": []
    },
    {
      "cell_type": "code",
      "source": [
        "train_transforms = transforms.Compose([\n",
        "    transforms.Resize((224, 224)),\n",
        "    transforms.RandomHorizontalFlip(p=0.5),\n",
        "    transforms.ToTensor()\n",
        "])\n",
        "\n",
        "# Don't augment test data, only reshape\n",
        "test_transforms = transforms.Compose([\n",
        "    transforms.Resize((224, 224)),\n",
        "    transforms.ToTensor()\n",
        "])"
      ],
      "metadata": {
        "execution": {
          "iopub.status.busy": "2024-07-15T11:03:44.415781Z",
          "iopub.execute_input": "2024-07-15T11:03:44.416544Z",
          "iopub.status.idle": "2024-07-15T11:03:44.424649Z",
          "shell.execute_reply.started": "2024-07-15T11:03:44.416511Z",
          "shell.execute_reply": "2024-07-15T11:03:44.423636Z"
        },
        "trusted": true,
        "id": "gDfnqV-YMQg_"
      },
      "execution_count": null,
      "outputs": []
    },
    {
      "cell_type": "code",
      "source": [
        "train_dataset = SickleCellDataset(tensors = (train_X_tensor, train_y_tensor),\n",
        "                                  transform = train_transforms)\n",
        "\n",
        "test_data = SickleCellDataset(tensors = (test_X_tensor, test_y_tensor),\n",
        "                             transform = test_transforms)"
      ],
      "metadata": {
        "execution": {
          "iopub.status.busy": "2024-07-15T11:03:44.425809Z",
          "iopub.execute_input": "2024-07-15T11:03:44.426147Z",
          "iopub.status.idle": "2024-07-15T11:03:44.437086Z",
          "shell.execute_reply.started": "2024-07-15T11:03:44.426113Z",
          "shell.execute_reply": "2024-07-15T11:03:44.436244Z"
        },
        "trusted": true,
        "id": "9oNAoOtwMQg_"
      },
      "execution_count": null,
      "outputs": []
    },
    {
      "cell_type": "code",
      "source": [
        "len(train_dataset), len(test_data)"
      ],
      "metadata": {
        "execution": {
          "iopub.status.busy": "2024-07-15T11:03:44.438209Z",
          "iopub.execute_input": "2024-07-15T11:03:44.438849Z",
          "iopub.status.idle": "2024-07-15T11:03:44.447257Z",
          "shell.execute_reply.started": "2024-07-15T11:03:44.438804Z",
          "shell.execute_reply": "2024-07-15T11:03:44.446393Z"
        },
        "trusted": true,
        "id": "BKb1uYu_MQg_"
      },
      "execution_count": null,
      "outputs": []
    },
    {
      "cell_type": "code",
      "source": [
        "# 1. Take in a Dataset as well as a list of class names\n",
        "def display_random_images(dataset: torch.utils.data.dataset.Dataset,\n",
        "                          classes: list = None,\n",
        "                          n: int = 10,\n",
        "                          display_shape: bool = True,\n",
        "                          seed: int = None):\n",
        "\n",
        "    # 2. Adjust display if n too high\n",
        "    if n > 10:\n",
        "        n = 10\n",
        "        display_shape = False\n",
        "        print(f\"For display purposes, n shouldn't be larger than 10, setting to 10 and removing shape display.\")\n",
        "\n",
        "    # 3. Set random seed\n",
        "    if seed:\n",
        "        random.seed(seed)\n",
        "\n",
        "    # 4. Get random sample indexes\n",
        "    random_samples_idx = random.sample(range(len(dataset)), k=n)\n",
        "\n",
        "    # 5. Setup plot\n",
        "    plt.figure(figsize=(16, 8))\n",
        "\n",
        "    # 6. Loop through samples and display random samples\n",
        "    for i, targ_sample in enumerate(random_samples_idx):\n",
        "        targ_image, targ_label = dataset[targ_sample][0], dataset[targ_sample][1]\n",
        "\n",
        "        # 7. Adjust image tensor shape for plotting: [color_channels, height, width] -> [color_channels, height, width]\n",
        "        targ_image_adjust = targ_image.permute(1, 2, 0)\n",
        "\n",
        "        # Plot adjusted samples\n",
        "        plt.subplot(1, n, i+1)\n",
        "        plt.imshow(targ_image_adjust)\n",
        "        plt.axis(\"off\")\n",
        "        if classes:\n",
        "            title = f\"class: {classes[targ_label]}\"\n",
        "            if display_shape:\n",
        "                title = title + f\"\\nshape: {targ_image_adjust.shape}\"\n",
        "        plt.title(title)"
      ],
      "metadata": {
        "execution": {
          "iopub.status.busy": "2024-07-15T11:03:44.448321Z",
          "iopub.execute_input": "2024-07-15T11:03:44.448609Z",
          "iopub.status.idle": "2024-07-15T11:03:44.457796Z",
          "shell.execute_reply.started": "2024-07-15T11:03:44.448573Z",
          "shell.execute_reply": "2024-07-15T11:03:44.456814Z"
        },
        "trusted": true,
        "id": "xn_gsbhjMQg_"
      },
      "execution_count": null,
      "outputs": []
    },
    {
      "cell_type": "code",
      "source": [
        "# Display random images from ImageFolderCustom Dataset\n",
        "display_random_images(train_dataset,\n",
        "                      n=12,\n",
        "                      classes=train_dataset.classes,\n",
        "                      seed=None) # Try setting the seed for reproducible images"
      ],
      "metadata": {
        "execution": {
          "iopub.status.busy": "2024-07-15T11:03:44.45907Z",
          "iopub.execute_input": "2024-07-15T11:03:44.459414Z"
        },
        "trusted": true,
        "id": "gZxkKdfDMQg_"
      },
      "execution_count": null,
      "outputs": []
    },
    {
      "cell_type": "code",
      "source": [],
      "metadata": {
        "id": "JiPOGLaqMQhA"
      },
      "execution_count": null,
      "outputs": []
    },
    {
      "cell_type": "code",
      "source": [
        "# Turn train and test custom Dataset's into DataLoader's\n",
        "from torch.utils.data import DataLoader\n",
        "train_dataloader_custom = DataLoader(dataset=train_dataset, # use custom created train Dataset\n",
        "                                     batch_size=1, # how many samples per batch?\n",
        "                                     num_workers=2, # how many subprocesses to use for data loading? (higher = more)\n",
        "                                     shuffle=True) # shuffle the data?\n",
        "\n",
        "test_dataloader_custom = DataLoader(dataset=test_data, # use custom created test Dataset\n",
        "                                    batch_size=1,\n",
        "                                    num_workers=2,\n",
        "                                    shuffle=False) # don't usually need to shuffle testing data\n",
        "\n",
        "train_dataloader_custom, test_dataloader_custom"
      ],
      "metadata": {
        "execution": {
          "iopub.status.busy": "2024-07-15T11:03:45.414302Z",
          "iopub.execute_input": "2024-07-15T11:03:45.414651Z",
          "iopub.status.idle": "2024-07-15T11:03:45.423674Z",
          "shell.execute_reply.started": "2024-07-15T11:03:45.414623Z",
          "shell.execute_reply": "2024-07-15T11:03:45.422665Z"
        },
        "trusted": true,
        "id": "EwHA3A78MQhA"
      },
      "execution_count": null,
      "outputs": []
    },
    {
      "cell_type": "code",
      "source": [
        "# Get image and label from custom DataLoader\n",
        "img_custom, label_custom = next(iter(train_dataloader_custom))\n",
        "\n",
        "# Batch size will now be 1, try changing the batch_size parameter above and see what happens\n",
        "print(f\"Image shape: {img_custom.shape} -> [batch_size, color_channels, height, width]\")\n",
        "print(f\"Label shape: {label_custom.shape}\")"
      ],
      "metadata": {
        "execution": {
          "iopub.status.busy": "2024-07-15T11:03:45.425106Z",
          "iopub.execute_input": "2024-07-15T11:03:45.425438Z",
          "iopub.status.idle": "2024-07-15T11:03:45.631923Z",
          "shell.execute_reply.started": "2024-07-15T11:03:45.425408Z",
          "shell.execute_reply": "2024-07-15T11:03:45.630895Z"
        },
        "trusted": true,
        "id": "aTt5Bi8LMQhA"
      },
      "execution_count": null,
      "outputs": []
    },
    {
      "cell_type": "code",
      "source": [
        "model = Sequential()\n",
        "model.add(Conv2D(32, (2, 2), input_shape=input_shape))\n",
        "model.add(Activation('relu'))\n",
        "model.add(MaxPooling2D(pool_size=(2, 2)))\n",
        "\n",
        "model.add(Conv2D(32, (2, 2)))\n",
        "model.add(Activation('relu'))\n",
        "model.add(MaxPooling2D(pool_size=(2, 2)))\n",
        "\n",
        "model.add(Conv2D(64, (2, 2)))\n",
        "model.add(Activation('relu'))\n",
        "model.add(MaxPooling2D(pool_size=(2, 2)))\n",
        "\n",
        "model.add(Flatten())\n",
        "model.add(Dense(64))\n",
        "model.add(Activation('relu'))\n",
        "model.add(Dropout(0.5))\n",
        "model.add(Dense(1))\n",
        "model.add(Activation('sigmoid'))\n"
      ],
      "metadata": {
        "execution": {
          "iopub.status.busy": "2024-07-15T11:03:45.633756Z",
          "iopub.execute_input": "2024-07-15T11:03:45.634672Z",
          "iopub.status.idle": "2024-07-15T11:03:46.175504Z",
          "shell.execute_reply.started": "2024-07-15T11:03:45.634637Z",
          "shell.execute_reply": "2024-07-15T11:03:46.174597Z"
        },
        "trusted": true,
        "id": "oDwCtTJ-MQhA"
      },
      "execution_count": null,
      "outputs": []
    },
    {
      "cell_type": "code",
      "source": [
        "class DCNNSCD(nn.Module):\n",
        "    def __init__(self,input_channels : int, output_shape : int):\n",
        "        super().__init__()\n",
        "        self.cnn_block_1 = nn.Sequential(\n",
        "            nn.Conv2d(\n",
        "                in_channels= input_channels,\n",
        "                out_channels=32,\n",
        "                kernel_size = 2,\n",
        "                padding = 1\n",
        "            ),\n",
        "            nn.ReLU(),\n",
        "            nn.MaxPool2d(kernel_size=2, stride = 2)\n",
        "        )\n",
        "\n",
        "        self.cnn_block_2 = nn.Sequential(\n",
        "            nn.Conv2d(\n",
        "                in_channels = 32,\n",
        "                out_channels=64,\n",
        "                kernel_size = 2,\n",
        "                stride=1,\n",
        "                padding=1,\n",
        "            ),\n",
        "            nn.ReLU(),\n",
        "            nn.MaxPool2d(kernel_size=2, stride = 2)\n",
        "        )\n",
        "\n",
        "        self.cnn_block_3 = nn.Sequential(\n",
        "            nn.Conv2d(\n",
        "                in_channels = 64,\n",
        "                out_channels= 64,\n",
        "                kernel_size = 2,\n",
        "                stride = 1,\n",
        "                padding = 1,\n",
        "            ),\n",
        "            nn.ReLU(),\n",
        "            nn.MaxPool2d(kernel_size = 2, stride = 2)\n",
        "        )\n",
        "\n",
        "        self.output_block = nn.Sequential(\n",
        "            nn.Flatten(),\n",
        "            nn.Linear(in_features=50176, out_features=64),\n",
        "            nn.Dropout(p=0.5),\n",
        "            nn.Linear(in_features = 64, out_features=32),\n",
        "            nn.Linear(in_features=32, out_features=1)\n",
        "        )\n",
        "\n",
        "    def forward(self, x):\n",
        "        x = self.cnn_block_1(x)\n",
        "\n",
        "        x = self.cnn_block_2(x)\n",
        "\n",
        "        x = self.cnn_block_3(x)\n",
        "\n",
        "        x = self.output_block(x)\n",
        "\n",
        "        return x\n",
        "\n",
        "\n",
        "model = DCNNSCD(input_channels=3, output_shape=1).to(device)\n",
        "model"
      ],
      "metadata": {
        "execution": {
          "iopub.status.busy": "2024-07-15T12:11:56.287358Z",
          "iopub.execute_input": "2024-07-15T12:11:56.288633Z",
          "iopub.status.idle": "2024-07-15T12:11:56.344045Z",
          "shell.execute_reply.started": "2024-07-15T12:11:56.288584Z",
          "shell.execute_reply": "2024-07-15T12:11:56.343105Z"
        },
        "trusted": true,
        "id": "WZdSq0F_MQhA"
      },
      "execution_count": null,
      "outputs": []
    },
    {
      "cell_type": "code",
      "source": [
        "input_batch, output_batch = next(iter(train_dataloader_custom))\n",
        "\n",
        "img, label = input_batch[0].unsqueeze(axis = 0), output_batch[0]\n",
        "\n",
        "img.shape, label"
      ],
      "metadata": {
        "execution": {
          "iopub.status.busy": "2024-07-15T11:03:46.270869Z",
          "iopub.execute_input": "2024-07-15T11:03:46.271312Z",
          "iopub.status.idle": "2024-07-15T11:03:46.445868Z",
          "shell.execute_reply.started": "2024-07-15T11:03:46.271276Z",
          "shell.execute_reply": "2024-07-15T11:03:46.444617Z"
        },
        "trusted": true,
        "id": "mRl6WSTiMQhA"
      },
      "execution_count": null,
      "outputs": []
    },
    {
      "cell_type": "code",
      "source": [
        "model.eval()\n",
        "\n",
        "with torch.inference_mode():\n",
        "    pred = model(img.to(device))\n",
        "\n",
        "print(f\"Output logits:\\n{pred}\\n\")\n",
        "print(f\"Output prediction probabilities:\\n{torch.sigmoid(pred)}\\n\")\n",
        "print(f\"Output prediction label:\\n{torch.round(torch.sigmoid(pred)).squeeze(dim = 1)}\\n\")\n",
        "print(f\"Actual label:\\n{label}\")"
      ],
      "metadata": {
        "execution": {
          "iopub.status.busy": "2024-07-15T11:06:24.067387Z",
          "iopub.execute_input": "2024-07-15T11:06:24.06827Z",
          "iopub.status.idle": "2024-07-15T11:06:24.354984Z",
          "shell.execute_reply.started": "2024-07-15T11:06:24.068238Z",
          "shell.execute_reply": "2024-07-15T11:06:24.354092Z"
        },
        "trusted": true,
        "id": "gJw12NhdMQhA"
      },
      "execution_count": null,
      "outputs": []
    },
    {
      "cell_type": "code",
      "source": [
        "torchinfo.summary(model, input_size=[1, 3, 224, 224])"
      ],
      "metadata": {
        "execution": {
          "iopub.status.busy": "2024-07-15T11:06:42.009044Z",
          "iopub.execute_input": "2024-07-15T11:06:42.009984Z",
          "iopub.status.idle": "2024-07-15T11:06:42.027348Z",
          "shell.execute_reply.started": "2024-07-15T11:06:42.009948Z",
          "shell.execute_reply": "2024-07-15T11:06:42.026416Z"
        },
        "trusted": true,
        "id": "x3qmCKPQMQhA"
      },
      "execution_count": null,
      "outputs": []
    },
    {
      "cell_type": "code",
      "source": [
        "def train_step(model: torch.nn.Module,\n",
        "               dataloader: torch.utils.data.DataLoader,\n",
        "               loss_fn: torch.nn.Module,\n",
        "               optimizer: torch.optim.Optimizer):\n",
        "    # Put model in train mode\n",
        "    model.train()\n",
        "\n",
        "    # Setup train loss and train accuracy values\n",
        "    train_loss, train_acc = 0, 0\n",
        "\n",
        "    # Loop through data loader data batches\n",
        "    for batch, (X, y) in enumerate(dataloader):\n",
        "        # Send data to target device\n",
        "        X, y = X.to(device), y.to(device)\n",
        "\n",
        "        # 1. Forward pass\n",
        "        y_pred = model(X).squeeze(dim = 1)\n",
        "\n",
        "        # 2. Calculate  and accumulate loss\n",
        "        loss = loss_fn(y_pred, y.float())\n",
        "        train_loss += loss.item()\n",
        "\n",
        "        # 3. Optimizer zero grad\n",
        "        optimizer.zero_grad()\n",
        "\n",
        "        # 4. Loss backward\n",
        "        loss.backward()\n",
        "\n",
        "        # 5. Optimizer step\n",
        "        optimizer.step()\n",
        "\n",
        "        # Calculate and accumulate accuracy metric across all batches\n",
        "        y_pred_class = torch.round(torch.sigmoid(y_pred))\n",
        "        train_acc += (y_pred_class == y).sum().item()/len(y_pred)\n",
        "\n",
        "    # Adjust metrics to get average loss and accuracy per batch\n",
        "    train_loss = train_loss / len(dataloader)\n",
        "    train_acc = train_acc / len(dataloader)\n",
        "    return train_loss, train_acc"
      ],
      "metadata": {
        "execution": {
          "iopub.status.busy": "2024-07-15T11:09:10.843146Z",
          "iopub.execute_input": "2024-07-15T11:09:10.844417Z",
          "iopub.status.idle": "2024-07-15T11:09:10.854503Z",
          "shell.execute_reply.started": "2024-07-15T11:09:10.844353Z",
          "shell.execute_reply": "2024-07-15T11:09:10.853431Z"
        },
        "trusted": true,
        "id": "z98uJbUaMQhA"
      },
      "execution_count": null,
      "outputs": []
    },
    {
      "cell_type": "code",
      "source": [
        "def test_step(model: torch.nn.Module,\n",
        "              dataloader: torch.utils.data.DataLoader,\n",
        "              loss_fn: torch.nn.Module):\n",
        "    # Put model in eval mode\n",
        "    model.eval()\n",
        "\n",
        "    # Setup test loss and test accuracy values\n",
        "    test_loss, test_acc = 0, 0\n",
        "\n",
        "    # Turn on inference context manager\n",
        "    with torch.inference_mode():\n",
        "        # Loop through DataLoader batches\n",
        "        for batch, (X, y) in enumerate(dataloader):\n",
        "            # Send data to target device\n",
        "            X, y = X.to(device), y.to(device)\n",
        "\n",
        "            # 1. Forward pass\n",
        "            test_pred_logits = model(X).squeeze(dim = 1)\n",
        "\n",
        "            # 2. Calculate and accumulate loss\n",
        "            loss = loss_fn(test_pred_logits, y.float())\n",
        "            test_loss += loss.item()\n",
        "\n",
        "            # Calculate and accumulate accuracy\n",
        "            test_pred_labels = torch.round(torch.sigmoid(test_pred_logits))\n",
        "            test_acc += ((test_pred_labels == y).sum().item()/len(test_pred_labels))\n",
        "\n",
        "    # Adjust metrics to get average loss and accuracy per batch\n",
        "    test_loss = test_loss / len(dataloader)\n",
        "    test_acc = test_acc / len(dataloader)\n",
        "    return test_loss, test_acc"
      ],
      "metadata": {
        "execution": {
          "iopub.status.busy": "2024-07-15T11:09:15.13447Z",
          "iopub.execute_input": "2024-07-15T11:09:15.134846Z",
          "iopub.status.idle": "2024-07-15T11:09:15.144248Z",
          "shell.execute_reply.started": "2024-07-15T11:09:15.134816Z",
          "shell.execute_reply": "2024-07-15T11:09:15.143222Z"
        },
        "trusted": true,
        "id": "VkWDePmGMQhA"
      },
      "execution_count": null,
      "outputs": []
    },
    {
      "cell_type": "code",
      "source": [
        "from tqdm.auto import tqdm\n",
        "\n",
        "# 1. Take in various parameters required for training and test steps\n",
        "def train(model: torch.nn.Module,\n",
        "          train_dataloader: torch.utils.data.DataLoader,\n",
        "          test_dataloader: torch.utils.data.DataLoader,\n",
        "          optimizer: torch.optim.Optimizer,\n",
        "          loss_fn: torch.nn.Module = nn.BCEWithLogitsLoss(),\n",
        "          epochs: int = 10):\n",
        "\n",
        "    # 2. Create empty results dictionary\n",
        "    results = {\"train_loss\": [],\n",
        "        \"train_acc\": [],\n",
        "        \"test_loss\": [],\n",
        "        \"test_acc\": []\n",
        "    }\n",
        "\n",
        "    # 3. Loop through training and testing steps for a number of epochs\n",
        "    for epoch in tqdm(range(epochs)):\n",
        "        train_loss, train_acc = train_step(model=model,\n",
        "                                           dataloader=train_dataloader,\n",
        "                                           loss_fn=loss_fn,\n",
        "                                           optimizer=optimizer)\n",
        "        test_loss, test_acc = test_step(model=model,\n",
        "            dataloader=test_dataloader,\n",
        "            loss_fn=loss_fn)\n",
        "\n",
        "        # 4. Print out what's happening\n",
        "        print(\n",
        "            f\"Epoch: {epoch+1} | \"\n",
        "            f\"train_loss: {train_loss:.4f} | \"\n",
        "            f\"train_acc: {train_acc:.4f} | \"\n",
        "            f\"test_loss: {test_loss:.4f} | \"\n",
        "            f\"test_acc: {test_acc:.4f}\"\n",
        "        )\n",
        "\n",
        "        # 5. Update results dictionary\n",
        "        results[\"train_loss\"].append(train_loss)\n",
        "        results[\"train_acc\"].append(train_acc)\n",
        "        results[\"test_loss\"].append(test_loss)\n",
        "        results[\"test_acc\"].append(test_acc)\n",
        "\n",
        "    # 6. Return the filled results at the end of the epochs\n",
        "    return results"
      ],
      "metadata": {
        "execution": {
          "iopub.status.busy": "2024-07-15T11:09:27.125503Z",
          "iopub.execute_input": "2024-07-15T11:09:27.125873Z",
          "iopub.status.idle": "2024-07-15T11:09:27.135726Z",
          "shell.execute_reply.started": "2024-07-15T11:09:27.125847Z",
          "shell.execute_reply": "2024-07-15T11:09:27.134741Z"
        },
        "trusted": true,
        "id": "9ticbn-gMQhA"
      },
      "execution_count": null,
      "outputs": []
    },
    {
      "cell_type": "code",
      "source": [
        "optimizer = torch.optim.Adam(params=model.parameters(), lr=0.001)\n",
        "torch.manual_seed(1234)\n",
        "\n",
        "# Start the timer\n",
        "from timeit import default_timer as timer\n",
        "start_time = timer()\n",
        "\n",
        "# Train model_0\n",
        "model_results = train(model=model,\n",
        "                        train_dataloader=train_dataloader_custom,\n",
        "                        test_dataloader=test_dataloader_custom,\n",
        "                        optimizer=optimizer, epochs = 20)\n",
        "\n",
        "# End the timer and print out how long it took\n",
        "end_time = timer()\n",
        "print(f\"Total training time: {end_time-start_time:.3f} seconds\")"
      ],
      "metadata": {
        "execution": {
          "iopub.status.busy": "2024-07-15T12:13:36.849768Z",
          "iopub.execute_input": "2024-07-15T12:13:36.850619Z",
          "iopub.status.idle": "2024-07-15T12:14:42.755717Z",
          "shell.execute_reply.started": "2024-07-15T12:13:36.850586Z",
          "shell.execute_reply": "2024-07-15T12:14:42.754606Z"
        },
        "trusted": true,
        "id": "BStJj6Q0MQhB"
      },
      "execution_count": null,
      "outputs": []
    },
    {
      "cell_type": "code",
      "source": [
        "def plot_loss_curves(results):\n",
        "    \"\"\"Plots training curves of a results dictionary.\n",
        "\n",
        "    Args:\n",
        "        results (dict): dictionary containing list of values, e.g.\n",
        "            {\"train_loss\": [...],\n",
        "             \"train_acc\": [...],\n",
        "             \"test_loss\": [...],\n",
        "             \"test_acc\": [...]}\n",
        "    \"\"\"\n",
        "\n",
        "    # Get the loss values of the results dictionary (training and test)\n",
        "    loss = results['train_loss']\n",
        "    test_loss = results['test_loss']\n",
        "\n",
        "    # Get the accuracy values of the results dictionary (training and test)\n",
        "    accuracy = results['train_acc']\n",
        "    test_accuracy = results['test_acc']\n",
        "\n",
        "    # Figure out how many epochs there were\n",
        "    epochs = range(len(results['train_loss']))\n",
        "\n",
        "    # Setup a plot\n",
        "    plt.figure(figsize=(15, 7))\n",
        "\n",
        "    # Plot loss\n",
        "    plt.subplot(1, 2, 1)\n",
        "    plt.plot(epochs, loss, label='train_loss')\n",
        "    plt.plot(epochs, test_loss, label='test_loss')\n",
        "    plt.title('Loss')\n",
        "    plt.xlabel('Epochs')\n",
        "    plt.legend()\n",
        "\n",
        "    # Plot accuracy\n",
        "    plt.subplot(1, 2, 2)\n",
        "    plt.plot(epochs, accuracy, label='train_accuracy')\n",
        "    plt.plot(epochs, test_accuracy, label='test_accuracy')\n",
        "    plt.title('Accuracy')\n",
        "    plt.xlabel('Epochs')\n",
        "    plt.legend();"
      ],
      "metadata": {
        "execution": {
          "iopub.status.busy": "2024-07-15T12:27:58.931801Z",
          "iopub.execute_input": "2024-07-15T12:27:58.932469Z",
          "iopub.status.idle": "2024-07-15T12:27:58.941121Z",
          "shell.execute_reply.started": "2024-07-15T12:27:58.932428Z",
          "shell.execute_reply": "2024-07-15T12:27:58.940019Z"
        },
        "trusted": true,
        "id": "BLCtxDKFMQhB"
      },
      "execution_count": null,
      "outputs": []
    },
    {
      "cell_type": "code",
      "source": [
        "plot_loss_curves(model_results)"
      ],
      "metadata": {
        "execution": {
          "iopub.status.busy": "2024-07-15T12:28:20.145692Z",
          "iopub.execute_input": "2024-07-15T12:28:20.146592Z",
          "iopub.status.idle": "2024-07-15T12:28:20.779684Z",
          "shell.execute_reply.started": "2024-07-15T12:28:20.146555Z",
          "shell.execute_reply": "2024-07-15T12:28:20.778768Z"
        },
        "trusted": true,
        "id": "dw6VDg8XMQhB"
      },
      "execution_count": null,
      "outputs": []
    },
    {
      "cell_type": "code",
      "source": [
        "torch.save(model.state_dict(), \"model state dict.pt\")"
      ],
      "metadata": {
        "execution": {
          "iopub.status.busy": "2024-07-15T12:32:18.498893Z",
          "iopub.execute_input": "2024-07-15T12:32:18.499635Z",
          "iopub.status.idle": "2024-07-15T12:32:18.524699Z",
          "shell.execute_reply.started": "2024-07-15T12:32:18.4996Z",
          "shell.execute_reply": "2024-07-15T12:32:18.523855Z"
        },
        "trusted": true,
        "id": "XqIaNczeMQhB"
      },
      "execution_count": null,
      "outputs": []
    },
    {
      "cell_type": "code",
      "source": [],
      "metadata": {
        "id": "toVjeq1zMQhB"
      },
      "execution_count": null,
      "outputs": []
    },
    {
      "cell_type": "code",
      "source": [],
      "metadata": {
        "id": "83pIFG5aMQhB"
      },
      "execution_count": null,
      "outputs": []
    }
  ]
}